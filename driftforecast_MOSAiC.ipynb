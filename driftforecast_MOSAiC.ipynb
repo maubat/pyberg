{
 "cells": [
  {
   "cell_type": "code",
   "execution_count": 928,
   "metadata": {
    "collapsed": true
   },
   "outputs": [],
   "source": [
    "import numpy as np\n",
    "import matplotlib.pyplot as plt\n",
    "from mpl_toolkits.basemap import Basemap\n",
    "from netCDF4 import Dataset, MFDataset\n",
    "import xarray as xr\n",
    "import pandas as pd\n",
    "from scipy import spatial\n",
    "from datetime import datetime\n",
    "from datetime import timedelta"
   ]
  },
  {
   "cell_type": "code",
   "execution_count": 555,
   "metadata": {
    "collapsed": true
   },
   "outputs": [],
   "source": [
    "# Thomas K. favourites; 1) Low Resolution Sea Ice Drift\n",
    "# ftp://osisaf.met.no/archive/ice/drift_lr/"
   ]
  },
  {
   "cell_type": "code",
   "execution_count": 556,
   "metadata": {
    "collapsed": true
   },
   "outputs": [],
   "source": [
    "# 2) AMSR-2 Global Sea Ice Concentration\n",
    "# ftp://osisaf.met.no/prod/ice/conc_amsr/"
   ]
  },
  {
   "cell_type": "markdown",
   "metadata": {},
   "source": [
    "### download data: sea ice drift velocities and concentration"
   ]
  },
  {
   "cell_type": "code",
   "execution_count": 4,
   "metadata": {},
   "outputs": [
    {
     "name": "stdout",
     "output_type": "stream",
     "text": [
      "2019-09-03 16:38:22 URL: ftp://osisaf.met.no/archive/ice/drift_lr/merged/ [801] -> \"drift-velocities/archive/ice/drift_lr/merged/.listing\" [1]\n",
      "2019-09-03 16:38:22 URL: ftp://osisaf.met.no/archive/ice/drift_lr/merged/2009/ [179] -> \"drift-velocities/archive/ice/drift_lr/merged/2009/.listing\" [1]\n",
      "2019-09-03 16:38:22 URL: ftp://osisaf.met.no/archive/ice/drift_lr/merged/2009/12/ [3023] -> \"drift-velocities/archive/ice/drift_lr/merged/2009/12/.listing\" [1]\n",
      "2019-09-03 16:38:22 URL: ftp://osisaf.met.no/archive/ice/drift_lr/merged/2010/ [839] -> \"drift-velocities/archive/ice/drift_lr/merged/2010/.listing\" [1]\n",
      "2019-09-03 16:38:23 URL: ftp://osisaf.met.no/archive/ice/drift_lr/merged/2010/01/ [3870] -> \"drift-velocities/archive/ice/drift_lr/merged/2010/01/.listing\" [1]\n",
      "2019-09-03 16:38:23 URL: ftp://osisaf.met.no/archive/ice/drift_lr/merged/2010/02/ [3507] -> \"drift-velocities/archive/ice/drift_lr/merged/2010/02/.listing\" [1]\n",
      "2019-09-03 16:38:23 URL: ftp://osisaf.met.no/archive/ice/drift_lr/merged/2010/03/ [3870] -> \"drift-velocities/archive/ice/drift_lr/merged/2010/03/.listing\" [1]\n",
      "2019-09-03 16:38:23 URL: ftp://osisaf.met.no/archive/ice/drift_lr/merged/2010/04/ [3749] -> \"drift-velocities/archive/ice/drift_lr/merged/2010/04/.listing\" [1]\n",
      "2019-09-03 16:38:23 URL: ftp://osisaf.met.no/archive/ice/drift_lr/merged/2010/05/ [3870] -> \"drift-velocities/archive/ice/drift_lr/merged/2010/05/.listing\" [1]\n",
      "2019-09-03 16:38:24 URL: ftp://osisaf.met.no/archive/ice/drift_lr/merged/2010/06/ [3749] -> \"drift-velocities/archive/ice/drift_lr/merged/2010/06/.listing\" [1]\n",
      "2019-09-03 16:38:24 URL: ftp://osisaf.met.no/archive/ice/drift_lr/merged/2010/07/ [3870] -> \"drift-velocities/archive/ice/drift_lr/merged/2010/07/.listing\" [1]\n",
      "2019-09-03 16:38:24 URL: ftp://osisaf.met.no/archive/ice/drift_lr/merged/2010/08/ [3870] -> \"drift-velocities/archive/ice/drift_lr/merged/2010/08/.listing\" [1]\n",
      "2019-09-03 16:38:24 URL: ftp://osisaf.met.no/archive/ice/drift_lr/merged/2010/09/ [3749] -> \"drift-velocities/archive/ice/drift_lr/merged/2010/09/.listing\" [1]\n",
      "2019-09-03 16:38:24 URL: ftp://osisaf.met.no/archive/ice/drift_lr/merged/2010/10/ [3870] -> \"drift-velocities/archive/ice/drift_lr/merged/2010/10/.listing\" [1]\n",
      "2019-09-03 16:38:24 URL: ftp://osisaf.met.no/archive/ice/drift_lr/merged/2010/11/ [3749] -> \"drift-velocities/archive/ice/drift_lr/merged/2010/11/.listing\" [1]\n",
      "2019-09-03 16:38:25 URL: ftp://osisaf.met.no/archive/ice/drift_lr/merged/2010/12/ [3870] -> \"drift-velocities/archive/ice/drift_lr/merged/2010/12/.listing\" [1]\n",
      "2019-09-03 16:38:25 URL: ftp://osisaf.met.no/archive/ice/drift_lr/merged/2011/ [839] -> \"drift-velocities/archive/ice/drift_lr/merged/2011/.listing\" [1]\n",
      "2019-09-03 16:38:25 URL: ftp://osisaf.met.no/archive/ice/drift_lr/merged/2011/01/ [3870] -> \"drift-velocities/archive/ice/drift_lr/merged/2011/01/.listing\" [1]\n",
      "2019-09-03 16:38:25 URL: ftp://osisaf.met.no/archive/ice/drift_lr/merged/2011/02/ [3386] -> \"drift-velocities/archive/ice/drift_lr/merged/2011/02/.listing\" [1]\n",
      "2019-09-03 16:38:25 URL: ftp://osisaf.met.no/archive/ice/drift_lr/merged/2011/03/ [3870] -> \"drift-velocities/archive/ice/drift_lr/merged/2011/03/.listing\" [1]\n",
      "2019-09-03 16:38:26 URL: ftp://osisaf.met.no/archive/ice/drift_lr/merged/2011/04/ [3749] -> \"drift-velocities/archive/ice/drift_lr/merged/2011/04/.listing\" [1]\n",
      "2019-09-03 16:38:26 URL: ftp://osisaf.met.no/archive/ice/drift_lr/merged/2011/05/ [3870] -> \"drift-velocities/archive/ice/drift_lr/merged/2011/05/.listing\" [1]\n",
      "2019-09-03 16:38:26 URL: ftp://osisaf.met.no/archive/ice/drift_lr/merged/2011/06/ [3749] -> \"drift-velocities/archive/ice/drift_lr/merged/2011/06/.listing\" [1]\n",
      "2019-09-03 16:38:26 URL: ftp://osisaf.met.no/archive/ice/drift_lr/merged/2011/07/ [3870] -> \"drift-velocities/archive/ice/drift_lr/merged/2011/07/.listing\" [1]\n",
      "2019-09-03 16:38:26 URL: ftp://osisaf.met.no/archive/ice/drift_lr/merged/2011/08/ [3870] -> \"drift-velocities/archive/ice/drift_lr/merged/2011/08/.listing\" [1]\n",
      "2019-09-03 16:38:27 URL: ftp://osisaf.met.no/archive/ice/drift_lr/merged/2011/09/ [3749] -> \"drift-velocities/archive/ice/drift_lr/merged/2011/09/.listing\" [1]\n",
      "2019-09-03 16:38:27 URL: ftp://osisaf.met.no/archive/ice/drift_lr/merged/2011/10/ [3870] -> \"drift-velocities/archive/ice/drift_lr/merged/2011/10/.listing\" [1]\n",
      "2019-09-03 16:38:27 URL: ftp://osisaf.met.no/archive/ice/drift_lr/merged/2011/11/ [3749] -> \"drift-velocities/archive/ice/drift_lr/merged/2011/11/.listing\" [1]\n",
      "2019-09-03 16:38:27 URL: ftp://osisaf.met.no/archive/ice/drift_lr/merged/2011/12/ [3870] -> \"drift-velocities/archive/ice/drift_lr/merged/2011/12/.listing\" [1]\n",
      "2019-09-03 16:38:27 URL: ftp://osisaf.met.no/archive/ice/drift_lr/merged/2012/ [839] -> \"drift-velocities/archive/ice/drift_lr/merged/2012/.listing\" [1]\n",
      "2019-09-03 16:38:27 URL: ftp://osisaf.met.no/archive/ice/drift_lr/merged/2012/01/ [3870] -> \"drift-velocities/archive/ice/drift_lr/merged/2012/01/.listing\" [1]\n",
      "2019-09-03 16:38:28 URL: ftp://osisaf.met.no/archive/ice/drift_lr/merged/2012/02/ [3628] -> \"drift-velocities/archive/ice/drift_lr/merged/2012/02/.listing\" [1]\n",
      "2019-09-03 16:38:28 URL: ftp://osisaf.met.no/archive/ice/drift_lr/merged/2012/03/ [3870] -> \"drift-velocities/archive/ice/drift_lr/merged/2012/03/.listing\" [1]\n",
      "2019-09-03 16:38:28 URL: ftp://osisaf.met.no/archive/ice/drift_lr/merged/2012/04/ [3749] -> \"drift-velocities/archive/ice/drift_lr/merged/2012/04/.listing\" [1]\n",
      "2019-09-03 16:38:28 URL: ftp://osisaf.met.no/archive/ice/drift_lr/merged/2012/05/ [3870] -> \"drift-velocities/archive/ice/drift_lr/merged/2012/05/.listing\" [1]\n",
      "2019-09-03 16:38:28 URL: ftp://osisaf.met.no/archive/ice/drift_lr/merged/2012/06/ [3749] -> \"drift-velocities/archive/ice/drift_lr/merged/2012/06/.listing\" [1]\n",
      "2019-09-03 16:38:28 URL: ftp://osisaf.met.no/archive/ice/drift_lr/merged/2012/07/ [3870] -> \"drift-velocities/archive/ice/drift_lr/merged/2012/07/.listing\" [1]\n",
      "2019-09-03 16:38:29 URL: ftp://osisaf.met.no/archive/ice/drift_lr/merged/2012/08/ [3870] -> \"drift-velocities/archive/ice/drift_lr/merged/2012/08/.listing\" [1]\n",
      "2019-09-03 16:38:29 URL: ftp://osisaf.met.no/archive/ice/drift_lr/merged/2012/09/ [3749] -> \"drift-velocities/archive/ice/drift_lr/merged/2012/09/.listing\" [1]\n",
      "2019-09-03 16:38:29 URL: ftp://osisaf.met.no/archive/ice/drift_lr/merged/2012/10/ [3870] -> \"drift-velocities/archive/ice/drift_lr/merged/2012/10/.listing\" [1]\n",
      "2019-09-03 16:38:29 URL: ftp://osisaf.met.no/archive/ice/drift_lr/merged/2012/11/ [3749] -> \"drift-velocities/archive/ice/drift_lr/merged/2012/11/.listing\" [1]\n",
      "2019-09-03 16:38:29 URL: ftp://osisaf.met.no/archive/ice/drift_lr/merged/2012/12/ [3870] -> \"drift-velocities/archive/ice/drift_lr/merged/2012/12/.listing\" [1]\n",
      "2019-09-03 16:38:30 URL: ftp://osisaf.met.no/archive/ice/drift_lr/merged/2013/ [839] -> \"drift-velocities/archive/ice/drift_lr/merged/2013/.listing\" [1]\n",
      "2019-09-03 16:38:30 URL: ftp://osisaf.met.no/archive/ice/drift_lr/merged/2013/01/ [3870] -> \"drift-velocities/archive/ice/drift_lr/merged/2013/01/.listing\" [1]\n",
      "2019-09-03 16:38:30 URL: ftp://osisaf.met.no/archive/ice/drift_lr/merged/2013/02/ [3507] -> \"drift-velocities/archive/ice/drift_lr/merged/2013/02/.listing\" [1]\n",
      "2019-09-03 16:38:30 URL: ftp://osisaf.met.no/archive/ice/drift_lr/merged/2013/03/ [6048] -> \"drift-velocities/archive/ice/drift_lr/merged/2013/03/.listing\" [1]\n",
      "2019-09-03 16:38:30 URL: ftp://osisaf.met.no/archive/ice/drift_lr/merged/2013/04/ [7379] -> \"drift-velocities/archive/ice/drift_lr/merged/2013/04/.listing\" [1]\n",
      "2019-09-03 16:38:30 URL: ftp://osisaf.met.no/archive/ice/drift_lr/merged/2013/05/ [7621] -> \"drift-velocities/archive/ice/drift_lr/merged/2013/05/.listing\" [1]\n",
      "2019-09-03 16:38:31 URL: ftp://osisaf.met.no/archive/ice/drift_lr/merged/2013/06/ [7379] -> \"drift-velocities/archive/ice/drift_lr/merged/2013/06/.listing\" [1]\n",
      "2019-09-03 16:38:31 URL: ftp://osisaf.met.no/archive/ice/drift_lr/merged/2013/07/ [7621] -> \"drift-velocities/archive/ice/drift_lr/merged/2013/07/.listing\" [1]\n",
      "2019-09-03 16:38:31 URL: ftp://osisaf.met.no/archive/ice/drift_lr/merged/2013/08/ [7621] -> \"drift-velocities/archive/ice/drift_lr/merged/2013/08/.listing\" [1]\n",
      "2019-09-03 16:38:31 URL: ftp://osisaf.met.no/archive/ice/drift_lr/merged/2013/09/ [7379] -> \"drift-velocities/archive/ice/drift_lr/merged/2013/09/.listing\" [1]\n"
     ]
    },
    {
     "name": "stdout",
     "output_type": "stream",
     "text": [
      "2019-09-03 16:38:31 URL: ftp://osisaf.met.no/archive/ice/drift_lr/merged/2013/10/ [7621] -> \"drift-velocities/archive/ice/drift_lr/merged/2013/10/.listing\" [1]\n",
      "2019-09-03 16:38:32 URL: ftp://osisaf.met.no/archive/ice/drift_lr/merged/2013/11/ [7379] -> \"drift-velocities/archive/ice/drift_lr/merged/2013/11/.listing\" [1]\n",
      "2019-09-03 16:38:32 URL: ftp://osisaf.met.no/archive/ice/drift_lr/merged/2013/12/ [7621] -> \"drift-velocities/archive/ice/drift_lr/merged/2013/12/.listing\" [1]\n",
      "2019-09-03 16:38:32 URL: ftp://osisaf.met.no/archive/ice/drift_lr/merged/2014/ [839] -> \"drift-velocities/archive/ice/drift_lr/merged/2014/.listing\" [1]\n",
      "2019-09-03 16:38:32 URL: ftp://osisaf.met.no/archive/ice/drift_lr/merged/2014/01/ [7621] -> \"drift-velocities/archive/ice/drift_lr/merged/2014/01/.listing\" [1]\n",
      "2019-09-03 16:38:32 URL: ftp://osisaf.met.no/archive/ice/drift_lr/merged/2014/02/ [6895] -> \"drift-velocities/archive/ice/drift_lr/merged/2014/02/.listing\" [1]\n",
      "2019-09-03 16:38:33 URL: ftp://osisaf.met.no/archive/ice/drift_lr/merged/2014/03/ [7621] -> \"drift-velocities/archive/ice/drift_lr/merged/2014/03/.listing\" [1]\n",
      "2019-09-03 16:38:33 URL: ftp://osisaf.met.no/archive/ice/drift_lr/merged/2014/04/ [7379] -> \"drift-velocities/archive/ice/drift_lr/merged/2014/04/.listing\" [1]\n",
      "2019-09-03 16:38:33 URL: ftp://osisaf.met.no/archive/ice/drift_lr/merged/2014/05/ [7621] -> \"drift-velocities/archive/ice/drift_lr/merged/2014/05/.listing\" [1]\n",
      "2019-09-03 16:38:33 URL: ftp://osisaf.met.no/archive/ice/drift_lr/merged/2014/06/ [6653] -> \"drift-velocities/archive/ice/drift_lr/merged/2014/06/.listing\" [1]\n",
      "2019-09-03 16:38:33 URL: ftp://osisaf.met.no/archive/ice/drift_lr/merged/2014/07/ [7621] -> \"drift-velocities/archive/ice/drift_lr/merged/2014/07/.listing\" [1]\n",
      "2019-09-03 16:38:34 URL: ftp://osisaf.met.no/archive/ice/drift_lr/merged/2014/08/ [7621] -> \"drift-velocities/archive/ice/drift_lr/merged/2014/08/.listing\" [1]\n",
      "2019-09-03 16:38:34 URL: ftp://osisaf.met.no/archive/ice/drift_lr/merged/2014/09/ [7379] -> \"drift-velocities/archive/ice/drift_lr/merged/2014/09/.listing\" [1]\n",
      "2019-09-03 16:38:34 URL: ftp://osisaf.met.no/archive/ice/drift_lr/merged/2014/10/ [6653] -> \"drift-velocities/archive/ice/drift_lr/merged/2014/10/.listing\" [1]\n",
      "2019-09-03 16:38:34 URL: ftp://osisaf.met.no/archive/ice/drift_lr/merged/2014/11/ [7379] -> \"drift-velocities/archive/ice/drift_lr/merged/2014/11/.listing\" [1]\n",
      "2019-09-03 16:38:34 URL: ftp://osisaf.met.no/archive/ice/drift_lr/merged/2014/12/ [7621] -> \"drift-velocities/archive/ice/drift_lr/merged/2014/12/.listing\" [1]\n",
      "2019-09-03 16:38:34 URL: ftp://osisaf.met.no/archive/ice/drift_lr/merged/2015/ [839] -> \"drift-velocities/archive/ice/drift_lr/merged/2015/.listing\" [1]\n",
      "2019-09-03 16:38:35 URL: ftp://osisaf.met.no/archive/ice/drift_lr/merged/2015/01/ [7621] -> \"drift-velocities/archive/ice/drift_lr/merged/2015/01/.listing\" [1]\n",
      "2019-09-03 16:38:35 URL: ftp://osisaf.met.no/archive/ice/drift_lr/merged/2015/02/ [6895] -> \"drift-velocities/archive/ice/drift_lr/merged/2015/02/.listing\" [1]\n",
      "2019-09-03 16:38:35 URL: ftp://osisaf.met.no/archive/ice/drift_lr/merged/2015/03/ [7621] -> \"drift-velocities/archive/ice/drift_lr/merged/2015/03/.listing\" [1]\n",
      "2019-09-03 16:38:35 URL: ftp://osisaf.met.no/archive/ice/drift_lr/merged/2015/04/ [7379] -> \"drift-velocities/archive/ice/drift_lr/merged/2015/04/.listing\" [1]\n",
      "2019-09-03 16:38:35 URL: ftp://osisaf.met.no/archive/ice/drift_lr/merged/2015/05/ [7621] -> \"drift-velocities/archive/ice/drift_lr/merged/2015/05/.listing\" [1]\n",
      "2019-09-03 16:38:36 URL: ftp://osisaf.met.no/archive/ice/drift_lr/merged/2015/06/ [7379] -> \"drift-velocities/archive/ice/drift_lr/merged/2015/06/.listing\" [1]\n",
      "2019-09-03 16:38:36 URL: ftp://osisaf.met.no/archive/ice/drift_lr/merged/2015/07/ [7621] -> \"drift-velocities/archive/ice/drift_lr/merged/2015/07/.listing\" [1]\n",
      "2019-09-03 16:38:36 URL: ftp://osisaf.met.no/archive/ice/drift_lr/merged/2015/08/ [7621] -> \"drift-velocities/archive/ice/drift_lr/merged/2015/08/.listing\" [1]\n",
      "2019-09-03 16:38:36 URL: ftp://osisaf.met.no/archive/ice/drift_lr/merged/2015/09/ [7379] -> \"drift-velocities/archive/ice/drift_lr/merged/2015/09/.listing\" [1]\n",
      "2019-09-03 16:38:36 URL: ftp://osisaf.met.no/archive/ice/drift_lr/merged/2015/10/ [7621] -> \"drift-velocities/archive/ice/drift_lr/merged/2015/10/.listing\" [1]\n",
      "2019-09-03 16:38:37 URL: ftp://osisaf.met.no/archive/ice/drift_lr/merged/2015/11/ [7379] -> \"drift-velocities/archive/ice/drift_lr/merged/2015/11/.listing\" [1]\n",
      "2019-09-03 16:38:37 URL: ftp://osisaf.met.no/archive/ice/drift_lr/merged/2015/12/ [7621] -> \"drift-velocities/archive/ice/drift_lr/merged/2015/12/.listing\" [1]\n",
      "2019-09-03 16:38:37 URL: ftp://osisaf.met.no/archive/ice/drift_lr/merged/2016/ [839] -> \"drift-velocities/archive/ice/drift_lr/merged/2016/.listing\" [1]\n",
      "2019-09-03 16:38:37 URL: ftp://osisaf.met.no/archive/ice/drift_lr/merged/2016/01/ [7621] -> \"drift-velocities/archive/ice/drift_lr/merged/2016/01/.listing\" [1]\n",
      "2019-09-03 16:38:37 URL: ftp://osisaf.met.no/archive/ice/drift_lr/merged/2016/02/ [7137] -> \"drift-velocities/archive/ice/drift_lr/merged/2016/02/.listing\" [1]\n",
      "2019-09-03 16:38:38 URL: ftp://osisaf.met.no/archive/ice/drift_lr/merged/2016/03/ [7621] -> \"drift-velocities/archive/ice/drift_lr/merged/2016/03/.listing\" [1]\n",
      "2019-09-03 16:38:38 URL: ftp://osisaf.met.no/archive/ice/drift_lr/merged/2016/04/ [7379] -> \"drift-velocities/archive/ice/drift_lr/merged/2016/04/.listing\" [1]\n",
      "2019-09-03 16:38:38 URL: ftp://osisaf.met.no/archive/ice/drift_lr/merged/2016/05/ [7621] -> \"drift-velocities/archive/ice/drift_lr/merged/2016/05/.listing\" [1]\n",
      "2019-09-03 16:38:38 URL: ftp://osisaf.met.no/archive/ice/drift_lr/merged/2016/06/ [7379] -> \"drift-velocities/archive/ice/drift_lr/merged/2016/06/.listing\" [1]\n",
      "2019-09-03 16:38:38 URL: ftp://osisaf.met.no/archive/ice/drift_lr/merged/2016/07/ [7621] -> \"drift-velocities/archive/ice/drift_lr/merged/2016/07/.listing\" [1]\n",
      "2019-09-03 16:38:38 URL: ftp://osisaf.met.no/archive/ice/drift_lr/merged/2016/08/ [7621] -> \"drift-velocities/archive/ice/drift_lr/merged/2016/08/.listing\" [1]\n",
      "2019-09-03 16:38:39 URL: ftp://osisaf.met.no/archive/ice/drift_lr/merged/2016/09/ [7379] -> \"drift-velocities/archive/ice/drift_lr/merged/2016/09/.listing\" [1]\n",
      "2019-09-03 16:38:39 URL: ftp://osisaf.met.no/archive/ice/drift_lr/merged/2016/10/ [7621] -> \"drift-velocities/archive/ice/drift_lr/merged/2016/10/.listing\" [1]\n",
      "2019-09-03 16:38:39 URL: ftp://osisaf.met.no/archive/ice/drift_lr/merged/2016/11/ [7379] -> \"drift-velocities/archive/ice/drift_lr/merged/2016/11/.listing\" [1]\n",
      "2019-09-03 16:38:39 URL: ftp://osisaf.met.no/archive/ice/drift_lr/merged/2016/12/ [7621] -> \"drift-velocities/archive/ice/drift_lr/merged/2016/12/.listing\" [1]\n",
      "2019-09-03 16:38:39 URL: ftp://osisaf.met.no/archive/ice/drift_lr/merged/2017/ [839] -> \"drift-velocities/archive/ice/drift_lr/merged/2017/.listing\" [1]\n",
      "2019-09-03 16:38:40 URL: ftp://osisaf.met.no/archive/ice/drift_lr/merged/2017/01/ [7621] -> \"drift-velocities/archive/ice/drift_lr/merged/2017/01/.listing\" [1]\n",
      "2019-09-03 16:38:40 URL: ftp://osisaf.met.no/archive/ice/drift_lr/merged/2017/02/ [6895] -> \"drift-velocities/archive/ice/drift_lr/merged/2017/02/.listing\" [1]\n",
      "2019-09-03 16:38:40 URL: ftp://osisaf.met.no/archive/ice/drift_lr/merged/2017/03/ [7621] -> \"drift-velocities/archive/ice/drift_lr/merged/2017/03/.listing\" [1]\n",
      "2019-09-03 16:38:40 URL: ftp://osisaf.met.no/archive/ice/drift_lr/merged/2017/04/ [7379] -> \"drift-velocities/archive/ice/drift_lr/merged/2017/04/.listing\" [1]\n",
      "2019-09-03 16:38:40 URL: ftp://osisaf.met.no/archive/ice/drift_lr/merged/2017/05/ [7621] -> \"drift-velocities/archive/ice/drift_lr/merged/2017/05/.listing\" [1]\n",
      "2019-09-03 16:38:40 URL: ftp://osisaf.met.no/archive/ice/drift_lr/merged/2017/06/ [7379] -> \"drift-velocities/archive/ice/drift_lr/merged/2017/06/.listing\" [1]\n",
      "2019-09-03 16:38:41 URL: ftp://osisaf.met.no/archive/ice/drift_lr/merged/2017/07/ [7621] -> \"drift-velocities/archive/ice/drift_lr/merged/2017/07/.listing\" [1]\n",
      "2019-09-03 16:38:41 URL: ftp://osisaf.met.no/archive/ice/drift_lr/merged/2017/08/ [7621] -> \"drift-velocities/archive/ice/drift_lr/merged/2017/08/.listing\" [1]\n",
      "2019-09-03 16:38:41 URL: ftp://osisaf.met.no/archive/ice/drift_lr/merged/2017/09/ [7379] -> \"drift-velocities/archive/ice/drift_lr/merged/2017/09/.listing\" [1]\n"
     ]
    },
    {
     "name": "stdout",
     "output_type": "stream",
     "text": [
      "2019-09-03 16:38:41 URL: ftp://osisaf.met.no/archive/ice/drift_lr/merged/2017/10/ [7621] -> \"drift-velocities/archive/ice/drift_lr/merged/2017/10/.listing\" [1]\n",
      "2019-09-03 16:38:41 URL: ftp://osisaf.met.no/archive/ice/drift_lr/merged/2017/11/ [7379] -> \"drift-velocities/archive/ice/drift_lr/merged/2017/11/.listing\" [1]\n",
      "2019-09-03 16:38:42 URL: ftp://osisaf.met.no/archive/ice/drift_lr/merged/2017/12/ [7621] -> \"drift-velocities/archive/ice/drift_lr/merged/2017/12/.listing\" [1]\n",
      "2019-09-03 16:38:42 URL: ftp://osisaf.met.no/archive/ice/drift_lr/merged/2018/ [839] -> \"drift-velocities/archive/ice/drift_lr/merged/2018/.listing\" [1]\n",
      "2019-09-03 16:38:42 URL: ftp://osisaf.met.no/archive/ice/drift_lr/merged/2018/01/ [7621] -> \"drift-velocities/archive/ice/drift_lr/merged/2018/01/.listing\" [1]\n",
      "2019-09-03 16:38:42 URL: ftp://osisaf.met.no/archive/ice/drift_lr/merged/2018/02/ [6895] -> \"drift-velocities/archive/ice/drift_lr/merged/2018/02/.listing\" [1]\n",
      "2019-09-03 16:38:42 URL: ftp://osisaf.met.no/archive/ice/drift_lr/merged/2018/03/ [7621] -> \"drift-velocities/archive/ice/drift_lr/merged/2018/03/.listing\" [1]\n",
      "2019-09-03 16:38:43 URL: ftp://osisaf.met.no/archive/ice/drift_lr/merged/2018/04/ [7379] -> \"drift-velocities/archive/ice/drift_lr/merged/2018/04/.listing\" [1]\n",
      "2019-09-03 16:38:43 URL: ftp://osisaf.met.no/archive/ice/drift_lr/merged/2018/05/ [7621] -> \"drift-velocities/archive/ice/drift_lr/merged/2018/05/.listing\" [1]\n",
      "2019-09-03 16:38:43 URL: ftp://osisaf.met.no/archive/ice/drift_lr/merged/2018/06/ [7379] -> \"drift-velocities/archive/ice/drift_lr/merged/2018/06/.listing\" [1]\n",
      "2019-09-03 16:38:43 URL: ftp://osisaf.met.no/archive/ice/drift_lr/merged/2018/07/ [7621] -> \"drift-velocities/archive/ice/drift_lr/merged/2018/07/.listing\" [1]\n",
      "2019-09-03 16:38:43 URL: ftp://osisaf.met.no/archive/ice/drift_lr/merged/2018/08/ [7621] -> \"drift-velocities/archive/ice/drift_lr/merged/2018/08/.listing\" [1]\n",
      "2019-09-03 16:38:43 URL: ftp://osisaf.met.no/archive/ice/drift_lr/merged/2018/09/ [7379] -> \"drift-velocities/archive/ice/drift_lr/merged/2018/09/.listing\" [1]\n",
      "2019-09-03 16:38:44 URL: ftp://osisaf.met.no/archive/ice/drift_lr/merged/2018/10/ [7621] -> \"drift-velocities/archive/ice/drift_lr/merged/2018/10/.listing\" [1]\n",
      "2019-09-03 16:38:44 URL: ftp://osisaf.met.no/archive/ice/drift_lr/merged/2018/11/ [7379] -> \"drift-velocities/archive/ice/drift_lr/merged/2018/11/.listing\" [1]\n",
      "2019-09-03 16:38:44 URL: ftp://osisaf.met.no/archive/ice/drift_lr/merged/2018/12/ [7621] -> \"drift-velocities/archive/ice/drift_lr/merged/2018/12/.listing\" [1]\n",
      "2019-09-03 16:38:44 URL: ftp://osisaf.met.no/archive/ice/drift_lr/merged/2019/ [659] -> \"drift-velocities/archive/ice/drift_lr/merged/2019/.listing\" [1]\n",
      "2019-09-03 16:38:44 URL: ftp://osisaf.met.no/archive/ice/drift_lr/merged/2019/01/ [7621] -> \"drift-velocities/archive/ice/drift_lr/merged/2019/01/.listing\" [1]\n",
      "2019-09-03 16:38:45 URL: ftp://osisaf.met.no/archive/ice/drift_lr/merged/2019/02/ [6895] -> \"drift-velocities/archive/ice/drift_lr/merged/2019/02/.listing\" [1]\n",
      "2019-09-03 16:38:45 URL: ftp://osisaf.met.no/archive/ice/drift_lr/merged/2019/03/ [7621] -> \"drift-velocities/archive/ice/drift_lr/merged/2019/03/.listing\" [1]\n",
      "2019-09-03 16:38:45 URL: ftp://osisaf.met.no/archive/ice/drift_lr/merged/2019/04/ [7379] -> \"drift-velocities/archive/ice/drift_lr/merged/2019/04/.listing\" [1]\n",
      "2019-09-03 16:38:45 URL: ftp://osisaf.met.no/archive/ice/drift_lr/merged/2019/05/ [7621] -> \"drift-velocities/archive/ice/drift_lr/merged/2019/05/.listing\" [1]\n",
      "2019-09-03 16:38:45 URL: ftp://osisaf.met.no/archive/ice/drift_lr/merged/2019/06/ [7379] -> \"drift-velocities/archive/ice/drift_lr/merged/2019/06/.listing\" [1]\n",
      "2019-09-03 16:38:46 URL: ftp://osisaf.met.no/archive/ice/drift_lr/merged/2019/07/ [7621] -> \"drift-velocities/archive/ice/drift_lr/merged/2019/07/.listing\" [1]\n",
      "2019-09-03 16:38:46 URL: ftp://osisaf.met.no/archive/ice/drift_lr/merged/2019/07/ice_drift_nh_polstere-625_multi-oi_201907091200-201907111200.nc [789356] -> \"drift-velocities/archive/ice/drift_lr/merged/2019/07/ice_drift_nh_polstere-625_multi-oi_201907091200-201907111200.nc\" [1]\n",
      "2019-09-03 16:38:46 URL: ftp://osisaf.met.no/archive/ice/drift_lr/merged/2019/07/ice_drift_nh_polstere-625_multi-oi_201907101200-201907121200.nc [789356] -> \"drift-velocities/archive/ice/drift_lr/merged/2019/07/ice_drift_nh_polstere-625_multi-oi_201907101200-201907121200.nc\" [1]\n",
      "2019-09-03 16:38:47 URL: ftp://osisaf.met.no/archive/ice/drift_lr/merged/2019/07/ice_drift_nh_polstere-625_multi-oi_201907111200-201907131200.nc [789356] -> \"drift-velocities/archive/ice/drift_lr/merged/2019/07/ice_drift_nh_polstere-625_multi-oi_201907111200-201907131200.nc\" [1]\n",
      "2019-09-03 16:38:47 URL: ftp://osisaf.met.no/archive/ice/drift_lr/merged/2019/07/ice_drift_nh_polstere-625_multi-oi_201907121200-201907141200.nc [789356] -> \"drift-velocities/archive/ice/drift_lr/merged/2019/07/ice_drift_nh_polstere-625_multi-oi_201907121200-201907141200.nc\" [1]\n",
      "2019-09-03 16:38:48 URL: ftp://osisaf.met.no/archive/ice/drift_lr/merged/2019/07/ice_drift_nh_polstere-625_multi-oi_201907131200-201907151200.nc [789356] -> \"drift-velocities/archive/ice/drift_lr/merged/2019/07/ice_drift_nh_polstere-625_multi-oi_201907131200-201907151200.nc\" [1]\n",
      "2019-09-03 16:38:48 URL: ftp://osisaf.met.no/archive/ice/drift_lr/merged/2019/07/ice_drift_nh_polstere-625_multi-oi_201907141200-201907161200.nc [789356] -> \"drift-velocities/archive/ice/drift_lr/merged/2019/07/ice_drift_nh_polstere-625_multi-oi_201907141200-201907161200.nc\" [1]\n",
      "2019-09-03 16:38:49 URL: ftp://osisaf.met.no/archive/ice/drift_lr/merged/2019/07/ice_drift_nh_polstere-625_multi-oi_201907151200-201907171200.nc [789356] -> \"drift-velocities/archive/ice/drift_lr/merged/2019/07/ice_drift_nh_polstere-625_multi-oi_201907151200-201907171200.nc\" [1]\n",
      "2019-09-03 16:38:49 URL: ftp://osisaf.met.no/archive/ice/drift_lr/merged/2019/07/ice_drift_nh_polstere-625_multi-oi_201907161200-201907181200.nc [789356] -> \"drift-velocities/archive/ice/drift_lr/merged/2019/07/ice_drift_nh_polstere-625_multi-oi_201907161200-201907181200.nc\" [1]\n",
      "2019-09-03 16:38:50 URL: ftp://osisaf.met.no/archive/ice/drift_lr/merged/2019/07/ice_drift_nh_polstere-625_multi-oi_201907171200-201907191200.nc [789356] -> \"drift-velocities/archive/ice/drift_lr/merged/2019/07/ice_drift_nh_polstere-625_multi-oi_201907171200-201907191200.nc\" [1]\n",
      "2019-09-03 16:38:50 URL: ftp://osisaf.met.no/archive/ice/drift_lr/merged/2019/07/ice_drift_nh_polstere-625_multi-oi_201907181200-201907201200.nc [789356] -> \"drift-velocities/archive/ice/drift_lr/merged/2019/07/ice_drift_nh_polstere-625_multi-oi_201907181200-201907201200.nc\" [1]\n",
      "2019-09-03 16:38:51 URL: ftp://osisaf.met.no/archive/ice/drift_lr/merged/2019/07/ice_drift_nh_polstere-625_multi-oi_201907191200-201907211200.nc [789356] -> \"drift-velocities/archive/ice/drift_lr/merged/2019/07/ice_drift_nh_polstere-625_multi-oi_201907191200-201907211200.nc\" [1]\n",
      "2019-09-03 16:38:51 URL: ftp://osisaf.met.no/archive/ice/drift_lr/merged/2019/07/ice_drift_nh_polstere-625_multi-oi_201907201200-201907221200.nc [789356] -> \"drift-velocities/archive/ice/drift_lr/merged/2019/07/ice_drift_nh_polstere-625_multi-oi_201907201200-201907221200.nc\" [1]\n",
      "2019-09-03 16:38:52 URL: ftp://osisaf.met.no/archive/ice/drift_lr/merged/2019/07/ice_drift_nh_polstere-625_multi-oi_201907211200-201907231200.nc [789356] -> \"drift-velocities/archive/ice/drift_lr/merged/2019/07/ice_drift_nh_polstere-625_multi-oi_201907211200-201907231200.nc\" [1]\n",
      "2019-09-03 16:38:52 URL: ftp://osisaf.met.no/archive/ice/drift_lr/merged/2019/07/ice_drift_nh_polstere-625_multi-oi_201907221200-201907241200.nc [789356] -> \"drift-velocities/archive/ice/drift_lr/merged/2019/07/ice_drift_nh_polstere-625_multi-oi_201907221200-201907241200.nc\" [1]\n",
      "2019-09-03 16:38:53 URL: ftp://osisaf.met.no/archive/ice/drift_lr/merged/2019/07/ice_drift_nh_polstere-625_multi-oi_201907231200-201907251200.nc [789356] -> \"drift-velocities/archive/ice/drift_lr/merged/2019/07/ice_drift_nh_polstere-625_multi-oi_201907231200-201907251200.nc\" [1]\n",
      "2019-09-03 16:38:53 URL: ftp://osisaf.met.no/archive/ice/drift_lr/merged/2019/07/ice_drift_nh_polstere-625_multi-oi_201907241200-201907261200.nc [789356] -> \"drift-velocities/archive/ice/drift_lr/merged/2019/07/ice_drift_nh_polstere-625_multi-oi_201907241200-201907261200.nc\" [1]\n"
     ]
    },
    {
     "name": "stdout",
     "output_type": "stream",
     "text": [
      "2019-09-03 16:38:54 URL: ftp://osisaf.met.no/archive/ice/drift_lr/merged/2019/07/ice_drift_nh_polstere-625_multi-oi_201907251200-201907271200.nc [789356] -> \"drift-velocities/archive/ice/drift_lr/merged/2019/07/ice_drift_nh_polstere-625_multi-oi_201907251200-201907271200.nc\" [1]\n",
      "2019-09-03 16:38:54 URL: ftp://osisaf.met.no/archive/ice/drift_lr/merged/2019/07/ice_drift_nh_polstere-625_multi-oi_201907261200-201907281200.nc [789356] -> \"drift-velocities/archive/ice/drift_lr/merged/2019/07/ice_drift_nh_polstere-625_multi-oi_201907261200-201907281200.nc\" [1]\n",
      "2019-09-03 16:38:55 URL: ftp://osisaf.met.no/archive/ice/drift_lr/merged/2019/07/ice_drift_nh_polstere-625_multi-oi_201907271200-201907291200.nc [789356] -> \"drift-velocities/archive/ice/drift_lr/merged/2019/07/ice_drift_nh_polstere-625_multi-oi_201907271200-201907291200.nc\" [1]\n",
      "2019-09-03 16:38:55 URL: ftp://osisaf.met.no/archive/ice/drift_lr/merged/2019/07/ice_drift_nh_polstere-625_multi-oi_201907281200-201907301200.nc [789356] -> \"drift-velocities/archive/ice/drift_lr/merged/2019/07/ice_drift_nh_polstere-625_multi-oi_201907281200-201907301200.nc\" [1]\n",
      "2019-09-03 16:38:56 URL: ftp://osisaf.met.no/archive/ice/drift_lr/merged/2019/07/ice_drift_nh_polstere-625_multi-oi_201907291200-201907311200.nc [789356] -> \"drift-velocities/archive/ice/drift_lr/merged/2019/07/ice_drift_nh_polstere-625_multi-oi_201907291200-201907311200.nc\" [1]\n",
      "2019-09-03 16:38:56 URL: ftp://osisaf.met.no/archive/ice/drift_lr/merged/2019/07/ice_drift_sh_polstere-625_multi-oi_201907091200-201907111200.nc [615580] -> \"drift-velocities/archive/ice/drift_lr/merged/2019/07/ice_drift_sh_polstere-625_multi-oi_201907091200-201907111200.nc\" [1]\n",
      "2019-09-03 16:38:57 URL: ftp://osisaf.met.no/archive/ice/drift_lr/merged/2019/07/ice_drift_sh_polstere-625_multi-oi_201907101200-201907121200.nc [615580] -> \"drift-velocities/archive/ice/drift_lr/merged/2019/07/ice_drift_sh_polstere-625_multi-oi_201907101200-201907121200.nc\" [1]\n",
      "2019-09-03 16:38:57 URL: ftp://osisaf.met.no/archive/ice/drift_lr/merged/2019/07/ice_drift_sh_polstere-625_multi-oi_201907111200-201907131200.nc [615580] -> \"drift-velocities/archive/ice/drift_lr/merged/2019/07/ice_drift_sh_polstere-625_multi-oi_201907111200-201907131200.nc\" [1]\n",
      "2019-09-03 16:38:58 URL: ftp://osisaf.met.no/archive/ice/drift_lr/merged/2019/07/ice_drift_sh_polstere-625_multi-oi_201907121200-201907141200.nc [615580] -> \"drift-velocities/archive/ice/drift_lr/merged/2019/07/ice_drift_sh_polstere-625_multi-oi_201907121200-201907141200.nc\" [1]\n",
      "2019-09-03 16:38:58 URL: ftp://osisaf.met.no/archive/ice/drift_lr/merged/2019/07/ice_drift_sh_polstere-625_multi-oi_201907131200-201907151200.nc [615580] -> \"drift-velocities/archive/ice/drift_lr/merged/2019/07/ice_drift_sh_polstere-625_multi-oi_201907131200-201907151200.nc\" [1]\n",
      "2019-09-03 16:38:59 URL: ftp://osisaf.met.no/archive/ice/drift_lr/merged/2019/07/ice_drift_sh_polstere-625_multi-oi_201907141200-201907161200.nc [615580] -> \"drift-velocities/archive/ice/drift_lr/merged/2019/07/ice_drift_sh_polstere-625_multi-oi_201907141200-201907161200.nc\" [1]\n",
      "2019-09-03 16:39:00 URL: ftp://osisaf.met.no/archive/ice/drift_lr/merged/2019/07/ice_drift_sh_polstere-625_multi-oi_201907151200-201907171200.nc [615580] -> \"drift-velocities/archive/ice/drift_lr/merged/2019/07/ice_drift_sh_polstere-625_multi-oi_201907151200-201907171200.nc\" [1]\n",
      "2019-09-03 16:39:00 URL: ftp://osisaf.met.no/archive/ice/drift_lr/merged/2019/07/ice_drift_sh_polstere-625_multi-oi_201907161200-201907181200.nc [615580] -> \"drift-velocities/archive/ice/drift_lr/merged/2019/07/ice_drift_sh_polstere-625_multi-oi_201907161200-201907181200.nc\" [1]\n",
      "2019-09-03 16:39:00 URL: ftp://osisaf.met.no/archive/ice/drift_lr/merged/2019/07/ice_drift_sh_polstere-625_multi-oi_201907171200-201907191200.nc [615580] -> \"drift-velocities/archive/ice/drift_lr/merged/2019/07/ice_drift_sh_polstere-625_multi-oi_201907171200-201907191200.nc\" [1]\n",
      "2019-09-03 16:39:01 URL: ftp://osisaf.met.no/archive/ice/drift_lr/merged/2019/07/ice_drift_sh_polstere-625_multi-oi_201907181200-201907201200.nc [615580] -> \"drift-velocities/archive/ice/drift_lr/merged/2019/07/ice_drift_sh_polstere-625_multi-oi_201907181200-201907201200.nc\" [1]\n",
      "2019-09-03 16:39:01 URL: ftp://osisaf.met.no/archive/ice/drift_lr/merged/2019/07/ice_drift_sh_polstere-625_multi-oi_201907191200-201907211200.nc [615580] -> \"drift-velocities/archive/ice/drift_lr/merged/2019/07/ice_drift_sh_polstere-625_multi-oi_201907191200-201907211200.nc\" [1]\n",
      "2019-09-03 16:39:02 URL: ftp://osisaf.met.no/archive/ice/drift_lr/merged/2019/07/ice_drift_sh_polstere-625_multi-oi_201907201200-201907221200.nc [615580] -> \"drift-velocities/archive/ice/drift_lr/merged/2019/07/ice_drift_sh_polstere-625_multi-oi_201907201200-201907221200.nc\" [1]\n",
      "2019-09-03 16:39:02 URL: ftp://osisaf.met.no/archive/ice/drift_lr/merged/2019/07/ice_drift_sh_polstere-625_multi-oi_201907211200-201907231200.nc [615580] -> \"drift-velocities/archive/ice/drift_lr/merged/2019/07/ice_drift_sh_polstere-625_multi-oi_201907211200-201907231200.nc\" [1]\n",
      "2019-09-03 16:39:03 URL: ftp://osisaf.met.no/archive/ice/drift_lr/merged/2019/07/ice_drift_sh_polstere-625_multi-oi_201907221200-201907241200.nc [615580] -> \"drift-velocities/archive/ice/drift_lr/merged/2019/07/ice_drift_sh_polstere-625_multi-oi_201907221200-201907241200.nc\" [1]\n",
      "2019-09-03 16:39:04 URL: ftp://osisaf.met.no/archive/ice/drift_lr/merged/2019/07/ice_drift_sh_polstere-625_multi-oi_201907231200-201907251200.nc [615580] -> \"drift-velocities/archive/ice/drift_lr/merged/2019/07/ice_drift_sh_polstere-625_multi-oi_201907231200-201907251200.nc\" [1]\n",
      "2019-09-03 16:39:04 URL: ftp://osisaf.met.no/archive/ice/drift_lr/merged/2019/07/ice_drift_sh_polstere-625_multi-oi_201907241200-201907261200.nc [615580] -> \"drift-velocities/archive/ice/drift_lr/merged/2019/07/ice_drift_sh_polstere-625_multi-oi_201907241200-201907261200.nc\" [1]\n",
      "2019-09-03 16:39:05 URL: ftp://osisaf.met.no/archive/ice/drift_lr/merged/2019/07/ice_drift_sh_polstere-625_multi-oi_201907251200-201907271200.nc [615580] -> \"drift-velocities/archive/ice/drift_lr/merged/2019/07/ice_drift_sh_polstere-625_multi-oi_201907251200-201907271200.nc\" [1]\n",
      "2019-09-03 16:39:05 URL: ftp://osisaf.met.no/archive/ice/drift_lr/merged/2019/07/ice_drift_sh_polstere-625_multi-oi_201907261200-201907281200.nc [615580] -> \"drift-velocities/archive/ice/drift_lr/merged/2019/07/ice_drift_sh_polstere-625_multi-oi_201907261200-201907281200.nc\" [1]\n",
      "2019-09-03 16:39:06 URL: ftp://osisaf.met.no/archive/ice/drift_lr/merged/2019/07/ice_drift_sh_polstere-625_multi-oi_201907271200-201907291200.nc [615580] -> \"drift-velocities/archive/ice/drift_lr/merged/2019/07/ice_drift_sh_polstere-625_multi-oi_201907271200-201907291200.nc\" [1]\n",
      "2019-09-03 16:39:06 URL: ftp://osisaf.met.no/archive/ice/drift_lr/merged/2019/07/ice_drift_sh_polstere-625_multi-oi_201907281200-201907301200.nc [615580] -> \"drift-velocities/archive/ice/drift_lr/merged/2019/07/ice_drift_sh_polstere-625_multi-oi_201907281200-201907301200.nc\" [1]\n",
      "2019-09-03 16:39:06 URL: ftp://osisaf.met.no/archive/ice/drift_lr/merged/2019/07/ice_drift_sh_polstere-625_multi-oi_201907291200-201907311200.nc [615580] -> \"drift-velocities/archive/ice/drift_lr/merged/2019/07/ice_drift_sh_polstere-625_multi-oi_201907291200-201907311200.nc\" [1]\n",
      "2019-09-03 16:39:07 URL: ftp://osisaf.met.no/archive/ice/drift_lr/merged/2019/08/ [7621] -> \"drift-velocities/archive/ice/drift_lr/merged/2019/08/.listing\" [1]\n",
      "2019-09-03 16:39:07 URL: ftp://osisaf.met.no/archive/ice/drift_lr/merged/2019/08/ice_drift_nh_polstere-625_multi-oi_201907301200-201908011200.nc [789356] -> \"drift-velocities/archive/ice/drift_lr/merged/2019/08/ice_drift_nh_polstere-625_multi-oi_201907301200-201908011200.nc\" [1]\n",
      "2019-09-03 16:39:08 URL: ftp://osisaf.met.no/archive/ice/drift_lr/merged/2019/08/ice_drift_nh_polstere-625_multi-oi_201907311200-201908021200.nc [789356] -> \"drift-velocities/archive/ice/drift_lr/merged/2019/08/ice_drift_nh_polstere-625_multi-oi_201907311200-201908021200.nc\" [1]\n",
      "2019-09-03 16:39:08 URL: ftp://osisaf.met.no/archive/ice/drift_lr/merged/2019/08/ice_drift_nh_polstere-625_multi-oi_201908011200-201908031200.nc [789356] -> \"drift-velocities/archive/ice/drift_lr/merged/2019/08/ice_drift_nh_polstere-625_multi-oi_201908011200-201908031200.nc\" [1]\n"
     ]
    },
    {
     "name": "stdout",
     "output_type": "stream",
     "text": [
      "2019-09-03 16:39:09 URL: ftp://osisaf.met.no/archive/ice/drift_lr/merged/2019/08/ice_drift_nh_polstere-625_multi-oi_201908021200-201908041200.nc [789356] -> \"drift-velocities/archive/ice/drift_lr/merged/2019/08/ice_drift_nh_polstere-625_multi-oi_201908021200-201908041200.nc\" [1]\n",
      "2019-09-03 16:39:09 URL: ftp://osisaf.met.no/archive/ice/drift_lr/merged/2019/08/ice_drift_nh_polstere-625_multi-oi_201908031200-201908051200.nc [789356] -> \"drift-velocities/archive/ice/drift_lr/merged/2019/08/ice_drift_nh_polstere-625_multi-oi_201908031200-201908051200.nc\" [1]\n",
      "2019-09-03 16:39:10 URL: ftp://osisaf.met.no/archive/ice/drift_lr/merged/2019/08/ice_drift_nh_polstere-625_multi-oi_201908041200-201908061200.nc [789356] -> \"drift-velocities/archive/ice/drift_lr/merged/2019/08/ice_drift_nh_polstere-625_multi-oi_201908041200-201908061200.nc\" [1]\n",
      "2019-09-03 16:39:10 URL: ftp://osisaf.met.no/archive/ice/drift_lr/merged/2019/08/ice_drift_nh_polstere-625_multi-oi_201908051200-201908071200.nc [789356] -> \"drift-velocities/archive/ice/drift_lr/merged/2019/08/ice_drift_nh_polstere-625_multi-oi_201908051200-201908071200.nc\" [1]\n",
      "2019-09-03 16:39:11 URL: ftp://osisaf.met.no/archive/ice/drift_lr/merged/2019/08/ice_drift_nh_polstere-625_multi-oi_201908061200-201908081200.nc [789356] -> \"drift-velocities/archive/ice/drift_lr/merged/2019/08/ice_drift_nh_polstere-625_multi-oi_201908061200-201908081200.nc\" [1]\n",
      "2019-09-03 16:39:11 URL: ftp://osisaf.met.no/archive/ice/drift_lr/merged/2019/08/ice_drift_nh_polstere-625_multi-oi_201908071200-201908091200.nc [789356] -> \"drift-velocities/archive/ice/drift_lr/merged/2019/08/ice_drift_nh_polstere-625_multi-oi_201908071200-201908091200.nc\" [1]\n",
      "2019-09-03 16:39:12 URL: ftp://osisaf.met.no/archive/ice/drift_lr/merged/2019/08/ice_drift_nh_polstere-625_multi-oi_201908081200-201908101200.nc [789356] -> \"drift-velocities/archive/ice/drift_lr/merged/2019/08/ice_drift_nh_polstere-625_multi-oi_201908081200-201908101200.nc\" [1]\n",
      "2019-09-03 16:39:13 URL: ftp://osisaf.met.no/archive/ice/drift_lr/merged/2019/08/ice_drift_nh_polstere-625_multi-oi_201908091200-201908111200.nc [789356] -> \"drift-velocities/archive/ice/drift_lr/merged/2019/08/ice_drift_nh_polstere-625_multi-oi_201908091200-201908111200.nc\" [1]\n",
      "2019-09-03 16:39:14 URL: ftp://osisaf.met.no/archive/ice/drift_lr/merged/2019/08/ice_drift_nh_polstere-625_multi-oi_201908101200-201908121200.nc [789356] -> \"drift-velocities/archive/ice/drift_lr/merged/2019/08/ice_drift_nh_polstere-625_multi-oi_201908101200-201908121200.nc\" [1]\n",
      "2019-09-03 16:39:14 URL: ftp://osisaf.met.no/archive/ice/drift_lr/merged/2019/08/ice_drift_nh_polstere-625_multi-oi_201908111200-201908131200.nc [789356] -> \"drift-velocities/archive/ice/drift_lr/merged/2019/08/ice_drift_nh_polstere-625_multi-oi_201908111200-201908131200.nc\" [1]\n",
      "2019-09-03 16:39:15 URL: ftp://osisaf.met.no/archive/ice/drift_lr/merged/2019/08/ice_drift_nh_polstere-625_multi-oi_201908121200-201908141200.nc [789356] -> \"drift-velocities/archive/ice/drift_lr/merged/2019/08/ice_drift_nh_polstere-625_multi-oi_201908121200-201908141200.nc\" [1]\n",
      "2019-09-03 16:39:15 URL: ftp://osisaf.met.no/archive/ice/drift_lr/merged/2019/08/ice_drift_nh_polstere-625_multi-oi_201908131200-201908151200.nc [789356] -> \"drift-velocities/archive/ice/drift_lr/merged/2019/08/ice_drift_nh_polstere-625_multi-oi_201908131200-201908151200.nc\" [1]\n",
      "2019-09-03 16:39:16 URL: ftp://osisaf.met.no/archive/ice/drift_lr/merged/2019/08/ice_drift_nh_polstere-625_multi-oi_201908141200-201908161200.nc [789356] -> \"drift-velocities/archive/ice/drift_lr/merged/2019/08/ice_drift_nh_polstere-625_multi-oi_201908141200-201908161200.nc\" [1]\n",
      "2019-09-03 16:39:17 URL: ftp://osisaf.met.no/archive/ice/drift_lr/merged/2019/08/ice_drift_nh_polstere-625_multi-oi_201908151200-201908171200.nc [789356] -> \"drift-velocities/archive/ice/drift_lr/merged/2019/08/ice_drift_nh_polstere-625_multi-oi_201908151200-201908171200.nc\" [1]\n",
      "2019-09-03 16:39:17 URL: ftp://osisaf.met.no/archive/ice/drift_lr/merged/2019/08/ice_drift_nh_polstere-625_multi-oi_201908161200-201908181200.nc [789356] -> \"drift-velocities/archive/ice/drift_lr/merged/2019/08/ice_drift_nh_polstere-625_multi-oi_201908161200-201908181200.nc\" [1]\n",
      "2019-09-03 16:39:18 URL: ftp://osisaf.met.no/archive/ice/drift_lr/merged/2019/08/ice_drift_nh_polstere-625_multi-oi_201908171200-201908191200.nc [789356] -> \"drift-velocities/archive/ice/drift_lr/merged/2019/08/ice_drift_nh_polstere-625_multi-oi_201908171200-201908191200.nc\" [1]\n",
      "2019-09-03 16:39:19 URL: ftp://osisaf.met.no/archive/ice/drift_lr/merged/2019/08/ice_drift_nh_polstere-625_multi-oi_201908181200-201908201200.nc [789356] -> \"drift-velocities/archive/ice/drift_lr/merged/2019/08/ice_drift_nh_polstere-625_multi-oi_201908181200-201908201200.nc\" [1]\n",
      "2019-09-03 16:39:20 URL: ftp://osisaf.met.no/archive/ice/drift_lr/merged/2019/08/ice_drift_nh_polstere-625_multi-oi_201908191200-201908211200.nc [789356] -> \"drift-velocities/archive/ice/drift_lr/merged/2019/08/ice_drift_nh_polstere-625_multi-oi_201908191200-201908211200.nc\" [1]\n",
      "2019-09-03 16:39:20 URL: ftp://osisaf.met.no/archive/ice/drift_lr/merged/2019/08/ice_drift_nh_polstere-625_multi-oi_201908201200-201908221200.nc [789356] -> \"drift-velocities/archive/ice/drift_lr/merged/2019/08/ice_drift_nh_polstere-625_multi-oi_201908201200-201908221200.nc\" [1]\n",
      "2019-09-03 16:39:21 URL: ftp://osisaf.met.no/archive/ice/drift_lr/merged/2019/08/ice_drift_nh_polstere-625_multi-oi_201908211200-201908231200.nc [789356] -> \"drift-velocities/archive/ice/drift_lr/merged/2019/08/ice_drift_nh_polstere-625_multi-oi_201908211200-201908231200.nc\" [1]\n",
      "2019-09-03 16:39:22 URL: ftp://osisaf.met.no/archive/ice/drift_lr/merged/2019/08/ice_drift_nh_polstere-625_multi-oi_201908221200-201908241200.nc [789356] -> \"drift-velocities/archive/ice/drift_lr/merged/2019/08/ice_drift_nh_polstere-625_multi-oi_201908221200-201908241200.nc\" [1]\n",
      "2019-09-03 16:39:23 URL: ftp://osisaf.met.no/archive/ice/drift_lr/merged/2019/08/ice_drift_nh_polstere-625_multi-oi_201908231200-201908251200.nc [789356] -> \"drift-velocities/archive/ice/drift_lr/merged/2019/08/ice_drift_nh_polstere-625_multi-oi_201908231200-201908251200.nc\" [1]\n",
      "2019-09-03 16:39:24 URL: ftp://osisaf.met.no/archive/ice/drift_lr/merged/2019/08/ice_drift_nh_polstere-625_multi-oi_201908241200-201908261200.nc [789356] -> \"drift-velocities/archive/ice/drift_lr/merged/2019/08/ice_drift_nh_polstere-625_multi-oi_201908241200-201908261200.nc\" [1]\n",
      "2019-09-03 16:39:24 URL: ftp://osisaf.met.no/archive/ice/drift_lr/merged/2019/08/ice_drift_nh_polstere-625_multi-oi_201908251200-201908271200.nc [789356] -> \"drift-velocities/archive/ice/drift_lr/merged/2019/08/ice_drift_nh_polstere-625_multi-oi_201908251200-201908271200.nc\" [1]\n",
      "2019-09-03 16:39:25 URL: ftp://osisaf.met.no/archive/ice/drift_lr/merged/2019/08/ice_drift_nh_polstere-625_multi-oi_201908261200-201908281200.nc [789356] -> \"drift-velocities/archive/ice/drift_lr/merged/2019/08/ice_drift_nh_polstere-625_multi-oi_201908261200-201908281200.nc\" [1]\n",
      "2019-09-03 16:39:26 URL: ftp://osisaf.met.no/archive/ice/drift_lr/merged/2019/08/ice_drift_nh_polstere-625_multi-oi_201908271200-201908291200.nc [789356] -> \"drift-velocities/archive/ice/drift_lr/merged/2019/08/ice_drift_nh_polstere-625_multi-oi_201908271200-201908291200.nc\" [1]\n",
      "2019-09-03 16:39:26 URL: ftp://osisaf.met.no/archive/ice/drift_lr/merged/2019/08/ice_drift_nh_polstere-625_multi-oi_201908281200-201908301200.nc [789356] -> \"drift-velocities/archive/ice/drift_lr/merged/2019/08/ice_drift_nh_polstere-625_multi-oi_201908281200-201908301200.nc\" [1]\n",
      "2019-09-03 16:39:27 URL: ftp://osisaf.met.no/archive/ice/drift_lr/merged/2019/08/ice_drift_nh_polstere-625_multi-oi_201908291200-201908311200.nc [789356] -> \"drift-velocities/archive/ice/drift_lr/merged/2019/08/ice_drift_nh_polstere-625_multi-oi_201908291200-201908311200.nc\" [1]\n",
      "2019-09-03 16:39:28 URL: ftp://osisaf.met.no/archive/ice/drift_lr/merged/2019/08/ice_drift_sh_polstere-625_multi-oi_201907301200-201908011200.nc [615580] -> \"drift-velocities/archive/ice/drift_lr/merged/2019/08/ice_drift_sh_polstere-625_multi-oi_201907301200-201908011200.nc\" [1]\n",
      "2019-09-03 16:39:29 URL: ftp://osisaf.met.no/archive/ice/drift_lr/merged/2019/08/ice_drift_sh_polstere-625_multi-oi_201907311200-201908021200.nc [615580] -> \"drift-velocities/archive/ice/drift_lr/merged/2019/08/ice_drift_sh_polstere-625_multi-oi_201907311200-201908021200.nc\" [1]\n"
     ]
    },
    {
     "name": "stdout",
     "output_type": "stream",
     "text": [
      "2019-09-03 16:39:30 URL: ftp://osisaf.met.no/archive/ice/drift_lr/merged/2019/08/ice_drift_sh_polstere-625_multi-oi_201908011200-201908031200.nc [615580] -> \"drift-velocities/archive/ice/drift_lr/merged/2019/08/ice_drift_sh_polstere-625_multi-oi_201908011200-201908031200.nc\" [1]\n",
      "2019-09-03 16:39:30 URL: ftp://osisaf.met.no/archive/ice/drift_lr/merged/2019/08/ice_drift_sh_polstere-625_multi-oi_201908021200-201908041200.nc [615580] -> \"drift-velocities/archive/ice/drift_lr/merged/2019/08/ice_drift_sh_polstere-625_multi-oi_201908021200-201908041200.nc\" [1]\n",
      "2019-09-03 16:39:31 URL: ftp://osisaf.met.no/archive/ice/drift_lr/merged/2019/08/ice_drift_sh_polstere-625_multi-oi_201908031200-201908051200.nc [615580] -> \"drift-velocities/archive/ice/drift_lr/merged/2019/08/ice_drift_sh_polstere-625_multi-oi_201908031200-201908051200.nc\" [1]\n",
      "2019-09-03 16:39:32 URL: ftp://osisaf.met.no/archive/ice/drift_lr/merged/2019/08/ice_drift_sh_polstere-625_multi-oi_201908041200-201908061200.nc [615580] -> \"drift-velocities/archive/ice/drift_lr/merged/2019/08/ice_drift_sh_polstere-625_multi-oi_201908041200-201908061200.nc\" [1]\n",
      "2019-09-03 16:39:32 URL: ftp://osisaf.met.no/archive/ice/drift_lr/merged/2019/08/ice_drift_sh_polstere-625_multi-oi_201908051200-201908071200.nc [615580] -> \"drift-velocities/archive/ice/drift_lr/merged/2019/08/ice_drift_sh_polstere-625_multi-oi_201908051200-201908071200.nc\" [1]\n",
      "2019-09-03 16:39:33 URL: ftp://osisaf.met.no/archive/ice/drift_lr/merged/2019/08/ice_drift_sh_polstere-625_multi-oi_201908061200-201908081200.nc [615580] -> \"drift-velocities/archive/ice/drift_lr/merged/2019/08/ice_drift_sh_polstere-625_multi-oi_201908061200-201908081200.nc\" [1]\n",
      "2019-09-03 16:39:34 URL: ftp://osisaf.met.no/archive/ice/drift_lr/merged/2019/08/ice_drift_sh_polstere-625_multi-oi_201908071200-201908091200.nc [615580] -> \"drift-velocities/archive/ice/drift_lr/merged/2019/08/ice_drift_sh_polstere-625_multi-oi_201908071200-201908091200.nc\" [1]\n",
      "2019-09-03 16:39:35 URL: ftp://osisaf.met.no/archive/ice/drift_lr/merged/2019/08/ice_drift_sh_polstere-625_multi-oi_201908081200-201908101200.nc [615580] -> \"drift-velocities/archive/ice/drift_lr/merged/2019/08/ice_drift_sh_polstere-625_multi-oi_201908081200-201908101200.nc\" [1]\n",
      "2019-09-03 16:39:35 URL: ftp://osisaf.met.no/archive/ice/drift_lr/merged/2019/08/ice_drift_sh_polstere-625_multi-oi_201908091200-201908111200.nc [615580] -> \"drift-velocities/archive/ice/drift_lr/merged/2019/08/ice_drift_sh_polstere-625_multi-oi_201908091200-201908111200.nc\" [1]\n",
      "2019-09-03 16:39:36 URL: ftp://osisaf.met.no/archive/ice/drift_lr/merged/2019/08/ice_drift_sh_polstere-625_multi-oi_201908101200-201908121200.nc [615580] -> \"drift-velocities/archive/ice/drift_lr/merged/2019/08/ice_drift_sh_polstere-625_multi-oi_201908101200-201908121200.nc\" [1]\n",
      "2019-09-03 16:39:36 URL: ftp://osisaf.met.no/archive/ice/drift_lr/merged/2019/08/ice_drift_sh_polstere-625_multi-oi_201908111200-201908131200.nc [615580] -> \"drift-velocities/archive/ice/drift_lr/merged/2019/08/ice_drift_sh_polstere-625_multi-oi_201908111200-201908131200.nc\" [1]\n",
      "2019-09-03 16:39:37 URL: ftp://osisaf.met.no/archive/ice/drift_lr/merged/2019/08/ice_drift_sh_polstere-625_multi-oi_201908121200-201908141200.nc [615580] -> \"drift-velocities/archive/ice/drift_lr/merged/2019/08/ice_drift_sh_polstere-625_multi-oi_201908121200-201908141200.nc\" [1]\n",
      "2019-09-03 16:39:38 URL: ftp://osisaf.met.no/archive/ice/drift_lr/merged/2019/08/ice_drift_sh_polstere-625_multi-oi_201908131200-201908151200.nc [615580] -> \"drift-velocities/archive/ice/drift_lr/merged/2019/08/ice_drift_sh_polstere-625_multi-oi_201908131200-201908151200.nc\" [1]\n",
      "2019-09-03 16:39:39 URL: ftp://osisaf.met.no/archive/ice/drift_lr/merged/2019/08/ice_drift_sh_polstere-625_multi-oi_201908141200-201908161200.nc [615580] -> \"drift-velocities/archive/ice/drift_lr/merged/2019/08/ice_drift_sh_polstere-625_multi-oi_201908141200-201908161200.nc\" [1]\n",
      "2019-09-03 16:39:39 URL: ftp://osisaf.met.no/archive/ice/drift_lr/merged/2019/08/ice_drift_sh_polstere-625_multi-oi_201908151200-201908171200.nc [615580] -> \"drift-velocities/archive/ice/drift_lr/merged/2019/08/ice_drift_sh_polstere-625_multi-oi_201908151200-201908171200.nc\" [1]\n",
      "2019-09-03 16:39:40 URL: ftp://osisaf.met.no/archive/ice/drift_lr/merged/2019/08/ice_drift_sh_polstere-625_multi-oi_201908161200-201908181200.nc [615580] -> \"drift-velocities/archive/ice/drift_lr/merged/2019/08/ice_drift_sh_polstere-625_multi-oi_201908161200-201908181200.nc\" [1]\n",
      "2019-09-03 16:39:41 URL: ftp://osisaf.met.no/archive/ice/drift_lr/merged/2019/08/ice_drift_sh_polstere-625_multi-oi_201908171200-201908191200.nc [615580] -> \"drift-velocities/archive/ice/drift_lr/merged/2019/08/ice_drift_sh_polstere-625_multi-oi_201908171200-201908191200.nc\" [1]\n",
      "2019-09-03 16:39:42 URL: ftp://osisaf.met.no/archive/ice/drift_lr/merged/2019/08/ice_drift_sh_polstere-625_multi-oi_201908181200-201908201200.nc [615580] -> \"drift-velocities/archive/ice/drift_lr/merged/2019/08/ice_drift_sh_polstere-625_multi-oi_201908181200-201908201200.nc\" [1]\n",
      "2019-09-03 16:39:42 URL: ftp://osisaf.met.no/archive/ice/drift_lr/merged/2019/08/ice_drift_sh_polstere-625_multi-oi_201908191200-201908211200.nc [615580] -> \"drift-velocities/archive/ice/drift_lr/merged/2019/08/ice_drift_sh_polstere-625_multi-oi_201908191200-201908211200.nc\" [1]\n",
      "2019-09-03 16:39:43 URL: ftp://osisaf.met.no/archive/ice/drift_lr/merged/2019/08/ice_drift_sh_polstere-625_multi-oi_201908201200-201908221200.nc [615580] -> \"drift-velocities/archive/ice/drift_lr/merged/2019/08/ice_drift_sh_polstere-625_multi-oi_201908201200-201908221200.nc\" [1]\n",
      "2019-09-03 16:39:44 URL: ftp://osisaf.met.no/archive/ice/drift_lr/merged/2019/08/ice_drift_sh_polstere-625_multi-oi_201908211200-201908231200.nc [615580] -> \"drift-velocities/archive/ice/drift_lr/merged/2019/08/ice_drift_sh_polstere-625_multi-oi_201908211200-201908231200.nc\" [1]\n",
      "2019-09-03 16:39:45 URL: ftp://osisaf.met.no/archive/ice/drift_lr/merged/2019/08/ice_drift_sh_polstere-625_multi-oi_201908221200-201908241200.nc [615580] -> \"drift-velocities/archive/ice/drift_lr/merged/2019/08/ice_drift_sh_polstere-625_multi-oi_201908221200-201908241200.nc\" [1]\n",
      "2019-09-03 16:39:46 URL: ftp://osisaf.met.no/archive/ice/drift_lr/merged/2019/08/ice_drift_sh_polstere-625_multi-oi_201908231200-201908251200.nc [615580] -> \"drift-velocities/archive/ice/drift_lr/merged/2019/08/ice_drift_sh_polstere-625_multi-oi_201908231200-201908251200.nc\" [1]\n",
      "2019-09-03 16:39:46 URL: ftp://osisaf.met.no/archive/ice/drift_lr/merged/2019/08/ice_drift_sh_polstere-625_multi-oi_201908241200-201908261200.nc [615580] -> \"drift-velocities/archive/ice/drift_lr/merged/2019/08/ice_drift_sh_polstere-625_multi-oi_201908241200-201908261200.nc\" [1]\n",
      "2019-09-03 16:39:47 URL: ftp://osisaf.met.no/archive/ice/drift_lr/merged/2019/08/ice_drift_sh_polstere-625_multi-oi_201908251200-201908271200.nc [615580] -> \"drift-velocities/archive/ice/drift_lr/merged/2019/08/ice_drift_sh_polstere-625_multi-oi_201908251200-201908271200.nc\" [1]\n",
      "2019-09-03 16:39:48 URL: ftp://osisaf.met.no/archive/ice/drift_lr/merged/2019/08/ice_drift_sh_polstere-625_multi-oi_201908261200-201908281200.nc [615580] -> \"drift-velocities/archive/ice/drift_lr/merged/2019/08/ice_drift_sh_polstere-625_multi-oi_201908261200-201908281200.nc\" [1]\n",
      "2019-09-03 16:39:49 URL: ftp://osisaf.met.no/archive/ice/drift_lr/merged/2019/08/ice_drift_sh_polstere-625_multi-oi_201908271200-201908291200.nc [615580] -> \"drift-velocities/archive/ice/drift_lr/merged/2019/08/ice_drift_sh_polstere-625_multi-oi_201908271200-201908291200.nc\" [1]\n",
      "2019-09-03 16:39:49 URL: ftp://osisaf.met.no/archive/ice/drift_lr/merged/2019/08/ice_drift_sh_polstere-625_multi-oi_201908281200-201908301200.nc [615580] -> \"drift-velocities/archive/ice/drift_lr/merged/2019/08/ice_drift_sh_polstere-625_multi-oi_201908281200-201908301200.nc\" [1]\n",
      "2019-09-03 16:39:50 URL: ftp://osisaf.met.no/archive/ice/drift_lr/merged/2019/08/ice_drift_sh_polstere-625_multi-oi_201908291200-201908311200.nc [615580] -> \"drift-velocities/archive/ice/drift_lr/merged/2019/08/ice_drift_sh_polstere-625_multi-oi_201908291200-201908311200.nc\" [1]\n",
      "2019-09-03 16:39:50 URL: ftp://osisaf.met.no/archive/ice/drift_lr/merged/2019/09/ [603] -> \"drift-velocities/archive/ice/drift_lr/merged/2019/09/.listing\" [1]\n"
     ]
    },
    {
     "name": "stdout",
     "output_type": "stream",
     "text": [
      "2019-09-03 16:39:51 URL: ftp://osisaf.met.no/archive/ice/drift_lr/merged/2019/09/ice_drift_nh_polstere-625_multi-oi_201908301200-201909011200.nc [789356] -> \"drift-velocities/archive/ice/drift_lr/merged/2019/09/ice_drift_nh_polstere-625_multi-oi_201908301200-201909011200.nc\" [1]\n",
      "2019-09-03 16:39:52 URL: ftp://osisaf.met.no/archive/ice/drift_lr/merged/2019/09/ice_drift_nh_polstere-625_multi-oi_201908311200-201909021200.nc [789356] -> \"drift-velocities/archive/ice/drift_lr/merged/2019/09/ice_drift_nh_polstere-625_multi-oi_201908311200-201909021200.nc\" [1]\n",
      "2019-09-03 16:39:53 URL: ftp://osisaf.met.no/archive/ice/drift_lr/merged/2019/09/ice_drift_sh_polstere-625_multi-oi_201908301200-201909011200.nc [615580] -> \"drift-velocities/archive/ice/drift_lr/merged/2019/09/ice_drift_sh_polstere-625_multi-oi_201908301200-201909011200.nc\" [1]\n",
      "2019-09-03 16:39:53 URL: ftp://osisaf.met.no/archive/ice/drift_lr/merged/2019/09/ice_drift_sh_polstere-625_multi-oi_201908311200-201909021200.nc [615580] -> \"drift-velocities/archive/ice/drift_lr/merged/2019/09/ice_drift_sh_polstere-625_multi-oi_201908311200-201909021200.nc\" [1]\n",
      "BEENDET --2019-09-03 16:39:53--\n",
      "Verstrichene Zeit: 1m 32s\n",
      "Geholt: 238 Dateien, 73M in 55s (1,33 MB/s)\n"
     ]
    }
   ],
   "source": [
    "# download latest drift velocities into folder 'drift-velocities'\n",
    "!wget -nv --mirror --no-host-directories --user=anonymous --password=anonymous -P drift-velocities ftp://osisaf.met.no/archive/ice/drift_lr/merged/"
   ]
  },
  {
   "cell_type": "code",
   "execution_count": 22,
   "metadata": {
    "scrolled": true
   },
   "outputs": [
    {
     "name": "stdout",
     "output_type": "stream",
     "text": [
      "2019-07-12 14:12:28 URL: ftp://osisaf.met.no/prod/ice/conc_amsr/ [14111] -> \"seaice-concentration/prod/ice/conc_amsr/.listing\" [1]\n",
      "2019-07-12 14:12:37 URL: ftp://osisaf.met.no/prod/ice/conc_amsr/ice_conc_nh_polstere-100_amsr2-tud_201906091200.nc [20450452] -> \"seaice-concentration/prod/ice/conc_amsr/ice_conc_nh_polstere-100_amsr2-tud_201906091200.nc\" [1]\n",
      "2019-07-12 14:13:02 URL: ftp://osisaf.met.no/prod/ice/conc_amsr/ice_conc_nh_polstere-100_amsr2-tud_201906101200.nc [20450452] -> \"seaice-concentration/prod/ice/conc_amsr/ice_conc_nh_polstere-100_amsr2-tud_201906101200.nc\" [1]\n",
      "2019-07-12 14:13:24 URL: ftp://osisaf.met.no/prod/ice/conc_amsr/ice_conc_nh_polstere-100_amsr2-tud_201906111200.nc [20450452] -> \"seaice-concentration/prod/ice/conc_amsr/ice_conc_nh_polstere-100_amsr2-tud_201906111200.nc\" [1]\n",
      "2019-07-12 14:13:35 URL: ftp://osisaf.met.no/prod/ice/conc_amsr/ice_conc_nh_polstere-100_amsr2-tud_201906121200.nc [20450452] -> \"seaice-concentration/prod/ice/conc_amsr/ice_conc_nh_polstere-100_amsr2-tud_201906121200.nc\" [1]\n",
      "2019-07-12 14:13:44 URL: ftp://osisaf.met.no/prod/ice/conc_amsr/ice_conc_nh_polstere-100_amsr2-tud_201906131200.nc [20450452] -> \"seaice-concentration/prod/ice/conc_amsr/ice_conc_nh_polstere-100_amsr2-tud_201906131200.nc\" [1]\n",
      "2019-07-12 14:13:55 URL: ftp://osisaf.met.no/prod/ice/conc_amsr/ice_conc_nh_polstere-100_amsr2-tud_201906141200.nc [20450452] -> \"seaice-concentration/prod/ice/conc_amsr/ice_conc_nh_polstere-100_amsr2-tud_201906141200.nc\" [1]\n",
      "2019-07-12 14:14:05 URL: ftp://osisaf.met.no/prod/ice/conc_amsr/ice_conc_nh_polstere-100_amsr2-tud_201906151200.nc [20450452] -> \"seaice-concentration/prod/ice/conc_amsr/ice_conc_nh_polstere-100_amsr2-tud_201906151200.nc\" [1]\n",
      "2019-07-12 14:14:16 URL: ftp://osisaf.met.no/prod/ice/conc_amsr/ice_conc_nh_polstere-100_amsr2-tud_201906161200.nc [20450452] -> \"seaice-concentration/prod/ice/conc_amsr/ice_conc_nh_polstere-100_amsr2-tud_201906161200.nc\" [1]\n",
      "2019-07-12 14:14:27 URL: ftp://osisaf.met.no/prod/ice/conc_amsr/ice_conc_nh_polstere-100_amsr2-tud_201906171200.nc [20450452] -> \"seaice-concentration/prod/ice/conc_amsr/ice_conc_nh_polstere-100_amsr2-tud_201906171200.nc\" [1]\n",
      "2019-07-12 14:14:38 URL: ftp://osisaf.met.no/prod/ice/conc_amsr/ice_conc_nh_polstere-100_amsr2-tud_201906181200.nc [20450452] -> \"seaice-concentration/prod/ice/conc_amsr/ice_conc_nh_polstere-100_amsr2-tud_201906181200.nc\" [1]\n",
      "2019-07-12 14:14:47 URL: ftp://osisaf.met.no/prod/ice/conc_amsr/ice_conc_nh_polstere-100_amsr2-tud_201906191200.nc [20450452] -> \"seaice-concentration/prod/ice/conc_amsr/ice_conc_nh_polstere-100_amsr2-tud_201906191200.nc\" [1]\n",
      "2019-07-12 14:14:57 URL: ftp://osisaf.met.no/prod/ice/conc_amsr/ice_conc_nh_polstere-100_amsr2-tud_201906201200.nc [20450452] -> \"seaice-concentration/prod/ice/conc_amsr/ice_conc_nh_polstere-100_amsr2-tud_201906201200.nc\" [1]\n",
      "2019-07-12 14:15:07 URL: ftp://osisaf.met.no/prod/ice/conc_amsr/ice_conc_nh_polstere-100_amsr2-tud_201906211200.nc [20450452] -> \"seaice-concentration/prod/ice/conc_amsr/ice_conc_nh_polstere-100_amsr2-tud_201906211200.nc\" [1]\n",
      "2019-07-12 14:15:17 URL: ftp://osisaf.met.no/prod/ice/conc_amsr/ice_conc_nh_polstere-100_amsr2-tud_201906221200.nc [20450452] -> \"seaice-concentration/prod/ice/conc_amsr/ice_conc_nh_polstere-100_amsr2-tud_201906221200.nc\" [1]\n",
      "2019-07-12 14:15:27 URL: ftp://osisaf.met.no/prod/ice/conc_amsr/ice_conc_nh_polstere-100_amsr2-tud_201906231200.nc [20450452] -> \"seaice-concentration/prod/ice/conc_amsr/ice_conc_nh_polstere-100_amsr2-tud_201906231200.nc\" [1]\n",
      "2019-07-12 14:15:38 URL: ftp://osisaf.met.no/prod/ice/conc_amsr/ice_conc_nh_polstere-100_amsr2-tud_201906241200.nc [20450452] -> \"seaice-concentration/prod/ice/conc_amsr/ice_conc_nh_polstere-100_amsr2-tud_201906241200.nc\" [1]\n",
      "2019-07-12 14:15:47 URL: ftp://osisaf.met.no/prod/ice/conc_amsr/ice_conc_nh_polstere-100_amsr2-tud_201906251200.nc [20450452] -> \"seaice-concentration/prod/ice/conc_amsr/ice_conc_nh_polstere-100_amsr2-tud_201906251200.nc\" [1]\n",
      "2019-07-12 14:15:58 URL: ftp://osisaf.met.no/prod/ice/conc_amsr/ice_conc_nh_polstere-100_amsr2-tud_201906261200.nc [20450452] -> \"seaice-concentration/prod/ice/conc_amsr/ice_conc_nh_polstere-100_amsr2-tud_201906261200.nc\" [1]\n",
      "2019-07-12 14:16:08 URL: ftp://osisaf.met.no/prod/ice/conc_amsr/ice_conc_nh_polstere-100_amsr2-tud_201906271200.nc [20450452] -> \"seaice-concentration/prod/ice/conc_amsr/ice_conc_nh_polstere-100_amsr2-tud_201906271200.nc\" [1]\n",
      "2019-07-12 14:16:17 URL: ftp://osisaf.met.no/prod/ice/conc_amsr/ice_conc_nh_polstere-100_amsr2-tud_201906281200.nc [20450452] -> \"seaice-concentration/prod/ice/conc_amsr/ice_conc_nh_polstere-100_amsr2-tud_201906281200.nc\" [1]\n",
      "2019-07-12 14:16:28 URL: ftp://osisaf.met.no/prod/ice/conc_amsr/ice_conc_nh_polstere-100_amsr2-tud_201906291200.nc [20450452] -> \"seaice-concentration/prod/ice/conc_amsr/ice_conc_nh_polstere-100_amsr2-tud_201906291200.nc\" [1]\n",
      "2019-07-12 14:16:37 URL: ftp://osisaf.met.no/prod/ice/conc_amsr/ice_conc_nh_polstere-100_amsr2-tud_201906301200.nc [20450452] -> \"seaice-concentration/prod/ice/conc_amsr/ice_conc_nh_polstere-100_amsr2-tud_201906301200.nc\" [1]\n",
      "2019-07-12 17:29:17 (19,9 KB/s) - Daten-Verbindung: Operation timed out; Kontroll-Verbindung wurde geschlossen.\n",
      "2019-07-12 17:44:21 URL: ftp://osisaf.met.no/prod/ice/conc_amsr/ice_conc_nh_polstere-100_amsr2-tud_201907011200.nc [20450452] -> \"seaice-concentration/prod/ice/conc_amsr/ice_conc_nh_polstere-100_amsr2-tud_201907011200.nc\" [2]\n",
      "2019-07-12 17:44:30 URL: ftp://osisaf.met.no/prod/ice/conc_amsr/ice_conc_nh_polstere-100_amsr2-tud_201907021200.nc [20450452] -> \"seaice-concentration/prod/ice/conc_amsr/ice_conc_nh_polstere-100_amsr2-tud_201907021200.nc\" [1]\n",
      "2019-07-12 17:44:39 URL: ftp://osisaf.met.no/prod/ice/conc_amsr/ice_conc_nh_polstere-100_amsr2-tud_201907031200.nc [20450452] -> \"seaice-concentration/prod/ice/conc_amsr/ice_conc_nh_polstere-100_amsr2-tud_201907031200.nc\" [1]\n",
      "2019-07-12 17:44:48 URL: ftp://osisaf.met.no/prod/ice/conc_amsr/ice_conc_nh_polstere-100_amsr2-tud_201907041200.nc [20450452] -> \"seaice-concentration/prod/ice/conc_amsr/ice_conc_nh_polstere-100_amsr2-tud_201907041200.nc\" [1]\n",
      "2019-07-12 17:44:57 URL: ftp://osisaf.met.no/prod/ice/conc_amsr/ice_conc_nh_polstere-100_amsr2-tud_201907051200.nc [20450452] -> \"seaice-concentration/prod/ice/conc_amsr/ice_conc_nh_polstere-100_amsr2-tud_201907051200.nc\" [1]\n",
      "2019-07-12 17:45:06 URL: ftp://osisaf.met.no/prod/ice/conc_amsr/ice_conc_nh_polstere-100_amsr2-tud_201907061200.nc [20450452] -> \"seaice-concentration/prod/ice/conc_amsr/ice_conc_nh_polstere-100_amsr2-tud_201907061200.nc\" [1]\n",
      "2019-07-12 17:45:15 URL: ftp://osisaf.met.no/prod/ice/conc_amsr/ice_conc_nh_polstere-100_amsr2-tud_201907071200.nc [20450452] -> \"seaice-concentration/prod/ice/conc_amsr/ice_conc_nh_polstere-100_amsr2-tud_201907071200.nc\" [1]\n",
      "2019-07-12 17:45:24 URL: ftp://osisaf.met.no/prod/ice/conc_amsr/ice_conc_nh_polstere-100_amsr2-tud_201907081200.nc [20450452] -> \"seaice-concentration/prod/ice/conc_amsr/ice_conc_nh_polstere-100_amsr2-tud_201907081200.nc\" [1]\n",
      "2019-07-12 17:45:33 URL: ftp://osisaf.met.no/prod/ice/conc_amsr/ice_conc_nh_polstere-100_amsr2-tud_201907091200.nc [20450452] -> \"seaice-concentration/prod/ice/conc_amsr/ice_conc_nh_polstere-100_amsr2-tud_201907091200.nc\" [1]\n",
      "2019-07-12 17:45:42 URL: ftp://osisaf.met.no/prod/ice/conc_amsr/ice_conc_nh_polstere-100_amsr2-tud_201907101200.nc [20450452] -> \"seaice-concentration/prod/ice/conc_amsr/ice_conc_nh_polstere-100_amsr2-tud_201907101200.nc\" [1]\n",
      "2019-07-12 17:45:53 URL: ftp://osisaf.met.no/prod/ice/conc_amsr/ice_conc_nh_polstere-100_amsr2-tud_201907111200.nc [20450452] -> \"seaice-concentration/prod/ice/conc_amsr/ice_conc_nh_polstere-100_amsr2-tud_201907111200.nc\" [1]\n",
      "2019-07-12 17:46:02 URL: ftp://osisaf.met.no/prod/ice/conc_amsr/ice_conc_nh_polstere-100_amsr2_201906091200.nc [20450448] -> \"seaice-concentration/prod/ice/conc_amsr/ice_conc_nh_polstere-100_amsr2_201906091200.nc\" [1]\n",
      "2019-07-12 17:46:11 URL: ftp://osisaf.met.no/prod/ice/conc_amsr/ice_conc_nh_polstere-100_amsr2_201906101200.nc [20450448] -> \"seaice-concentration/prod/ice/conc_amsr/ice_conc_nh_polstere-100_amsr2_201906101200.nc\" [1]\n",
      "2019-07-12 17:46:19 URL: ftp://osisaf.met.no/prod/ice/conc_amsr/ice_conc_nh_polstere-100_amsr2_201906111200.nc [20450448] -> \"seaice-concentration/prod/ice/conc_amsr/ice_conc_nh_polstere-100_amsr2_201906111200.nc\" [1]\n"
     ]
    },
    {
     "name": "stdout",
     "output_type": "stream",
     "text": [
      "2019-07-12 17:46:28 URL: ftp://osisaf.met.no/prod/ice/conc_amsr/ice_conc_nh_polstere-100_amsr2_201906121200.nc [20450448] -> \"seaice-concentration/prod/ice/conc_amsr/ice_conc_nh_polstere-100_amsr2_201906121200.nc\" [1]\n",
      "2019-07-12 17:46:37 URL: ftp://osisaf.met.no/prod/ice/conc_amsr/ice_conc_nh_polstere-100_amsr2_201906131200.nc [20450448] -> \"seaice-concentration/prod/ice/conc_amsr/ice_conc_nh_polstere-100_amsr2_201906131200.nc\" [1]\n",
      "2019-07-12 17:46:46 URL: ftp://osisaf.met.no/prod/ice/conc_amsr/ice_conc_nh_polstere-100_amsr2_201906141200.nc [20450448] -> \"seaice-concentration/prod/ice/conc_amsr/ice_conc_nh_polstere-100_amsr2_201906141200.nc\" [1]\n",
      "2019-07-12 17:46:55 URL: ftp://osisaf.met.no/prod/ice/conc_amsr/ice_conc_nh_polstere-100_amsr2_201906151200.nc [20450448] -> \"seaice-concentration/prod/ice/conc_amsr/ice_conc_nh_polstere-100_amsr2_201906151200.nc\" [1]\n",
      "2019-07-12 17:47:04 URL: ftp://osisaf.met.no/prod/ice/conc_amsr/ice_conc_nh_polstere-100_amsr2_201906161200.nc [20450448] -> \"seaice-concentration/prod/ice/conc_amsr/ice_conc_nh_polstere-100_amsr2_201906161200.nc\" [1]\n",
      "2019-07-12 17:47:17 URL: ftp://osisaf.met.no/prod/ice/conc_amsr/ice_conc_nh_polstere-100_amsr2_201906171200.nc [20450448] -> \"seaice-concentration/prod/ice/conc_amsr/ice_conc_nh_polstere-100_amsr2_201906171200.nc\" [1]\n",
      "2019-07-12 17:47:38 URL: ftp://osisaf.met.no/prod/ice/conc_amsr/ice_conc_nh_polstere-100_amsr2_201906181200.nc [20450448] -> \"seaice-concentration/prod/ice/conc_amsr/ice_conc_nh_polstere-100_amsr2_201906181200.nc\" [1]\n",
      "2019-07-12 17:47:47 URL: ftp://osisaf.met.no/prod/ice/conc_amsr/ice_conc_nh_polstere-100_amsr2_201906191200.nc [20450448] -> \"seaice-concentration/prod/ice/conc_amsr/ice_conc_nh_polstere-100_amsr2_201906191200.nc\" [1]\n",
      "2019-07-12 17:47:56 URL: ftp://osisaf.met.no/prod/ice/conc_amsr/ice_conc_nh_polstere-100_amsr2_201906201200.nc [20450448] -> \"seaice-concentration/prod/ice/conc_amsr/ice_conc_nh_polstere-100_amsr2_201906201200.nc\" [1]\n",
      "2019-07-12 17:48:05 URL: ftp://osisaf.met.no/prod/ice/conc_amsr/ice_conc_nh_polstere-100_amsr2_201906211200.nc [20450448] -> \"seaice-concentration/prod/ice/conc_amsr/ice_conc_nh_polstere-100_amsr2_201906211200.nc\" [1]\n",
      "2019-07-12 17:48:14 URL: ftp://osisaf.met.no/prod/ice/conc_amsr/ice_conc_nh_polstere-100_amsr2_201906221200.nc [20450448] -> \"seaice-concentration/prod/ice/conc_amsr/ice_conc_nh_polstere-100_amsr2_201906221200.nc\" [1]\n",
      "2019-07-12 17:48:23 URL: ftp://osisaf.met.no/prod/ice/conc_amsr/ice_conc_nh_polstere-100_amsr2_201906231200.nc [20450448] -> \"seaice-concentration/prod/ice/conc_amsr/ice_conc_nh_polstere-100_amsr2_201906231200.nc\" [1]\n",
      "2019-07-12 17:48:32 URL: ftp://osisaf.met.no/prod/ice/conc_amsr/ice_conc_nh_polstere-100_amsr2_201906241200.nc [20450448] -> \"seaice-concentration/prod/ice/conc_amsr/ice_conc_nh_polstere-100_amsr2_201906241200.nc\" [1]\n",
      "2019-07-12 17:48:41 URL: ftp://osisaf.met.no/prod/ice/conc_amsr/ice_conc_nh_polstere-100_amsr2_201906251200.nc [20450448] -> \"seaice-concentration/prod/ice/conc_amsr/ice_conc_nh_polstere-100_amsr2_201906251200.nc\" [1]\n",
      "2019-07-12 17:48:50 URL: ftp://osisaf.met.no/prod/ice/conc_amsr/ice_conc_nh_polstere-100_amsr2_201906261200.nc [20450448] -> \"seaice-concentration/prod/ice/conc_amsr/ice_conc_nh_polstere-100_amsr2_201906261200.nc\" [1]\n",
      "2019-07-12 17:48:59 URL: ftp://osisaf.met.no/prod/ice/conc_amsr/ice_conc_nh_polstere-100_amsr2_201906271200.nc [20450448] -> \"seaice-concentration/prod/ice/conc_amsr/ice_conc_nh_polstere-100_amsr2_201906271200.nc\" [1]\n",
      "2019-07-12 17:49:08 URL: ftp://osisaf.met.no/prod/ice/conc_amsr/ice_conc_nh_polstere-100_amsr2_201906281200.nc [20450448] -> \"seaice-concentration/prod/ice/conc_amsr/ice_conc_nh_polstere-100_amsr2_201906281200.nc\" [1]\n",
      "2019-07-12 17:49:16 URL: ftp://osisaf.met.no/prod/ice/conc_amsr/ice_conc_nh_polstere-100_amsr2_201906291200.nc [20450448] -> \"seaice-concentration/prod/ice/conc_amsr/ice_conc_nh_polstere-100_amsr2_201906291200.nc\" [1]\n",
      "2019-07-12 17:49:25 URL: ftp://osisaf.met.no/prod/ice/conc_amsr/ice_conc_nh_polstere-100_amsr2_201906301200.nc [20450448] -> \"seaice-concentration/prod/ice/conc_amsr/ice_conc_nh_polstere-100_amsr2_201906301200.nc\" [1]\n",
      "2019-07-12 17:49:34 URL: ftp://osisaf.met.no/prod/ice/conc_amsr/ice_conc_nh_polstere-100_amsr2_201907011200.nc [20450448] -> \"seaice-concentration/prod/ice/conc_amsr/ice_conc_nh_polstere-100_amsr2_201907011200.nc\" [1]\n",
      "2019-07-12 17:50:24 URL: ftp://osisaf.met.no/prod/ice/conc_amsr/ice_conc_nh_polstere-100_amsr2_201907021200.nc [20450448] -> \"seaice-concentration/prod/ice/conc_amsr/ice_conc_nh_polstere-100_amsr2_201907021200.nc\" [1]\n",
      "2019-07-12 17:50:47 URL: ftp://osisaf.met.no/prod/ice/conc_amsr/ice_conc_nh_polstere-100_amsr2_201907031200.nc [20450448] -> \"seaice-concentration/prod/ice/conc_amsr/ice_conc_nh_polstere-100_amsr2_201907031200.nc\" [1]\n",
      "2019-07-12 17:51:00 URL: ftp://osisaf.met.no/prod/ice/conc_amsr/ice_conc_nh_polstere-100_amsr2_201907041200.nc [20450448] -> \"seaice-concentration/prod/ice/conc_amsr/ice_conc_nh_polstere-100_amsr2_201907041200.nc\" [1]\n",
      "2019-07-12 17:51:13 URL: ftp://osisaf.met.no/prod/ice/conc_amsr/ice_conc_nh_polstere-100_amsr2_201907051200.nc [20450448] -> \"seaice-concentration/prod/ice/conc_amsr/ice_conc_nh_polstere-100_amsr2_201907051200.nc\" [1]\n",
      "2019-07-12 17:51:24 URL: ftp://osisaf.met.no/prod/ice/conc_amsr/ice_conc_nh_polstere-100_amsr2_201907061200.nc [20450448] -> \"seaice-concentration/prod/ice/conc_amsr/ice_conc_nh_polstere-100_amsr2_201907061200.nc\" [1]\n",
      "2019-07-12 17:51:34 URL: ftp://osisaf.met.no/prod/ice/conc_amsr/ice_conc_nh_polstere-100_amsr2_201907071200.nc [20450448] -> \"seaice-concentration/prod/ice/conc_amsr/ice_conc_nh_polstere-100_amsr2_201907071200.nc\" [1]\n",
      "2019-07-12 17:51:44 URL: ftp://osisaf.met.no/prod/ice/conc_amsr/ice_conc_nh_polstere-100_amsr2_201907081200.nc [20450448] -> \"seaice-concentration/prod/ice/conc_amsr/ice_conc_nh_polstere-100_amsr2_201907081200.nc\" [1]\n",
      "2019-07-12 17:51:56 URL: ftp://osisaf.met.no/prod/ice/conc_amsr/ice_conc_nh_polstere-100_amsr2_201907091200.nc [20450448] -> \"seaice-concentration/prod/ice/conc_amsr/ice_conc_nh_polstere-100_amsr2_201907091200.nc\" [1]\n",
      "2019-07-12 17:52:09 URL: ftp://osisaf.met.no/prod/ice/conc_amsr/ice_conc_nh_polstere-100_amsr2_201907101200.nc [20450448] -> \"seaice-concentration/prod/ice/conc_amsr/ice_conc_nh_polstere-100_amsr2_201907101200.nc\" [1]\n",
      "2019-07-12 17:52:19 URL: ftp://osisaf.met.no/prod/ice/conc_amsr/ice_conc_nh_polstere-100_amsr2_201907111200.nc [20450448] -> \"seaice-concentration/prod/ice/conc_amsr/ice_conc_nh_polstere-100_amsr2_201907111200.nc\" [1]\n",
      "2019-07-12 17:52:26 URL: ftp://osisaf.met.no/prod/ice/conc_amsr/ice_conc_sh_polstere-100_amsr2-tud_201906091200.nc [15756372] -> \"seaice-concentration/prod/ice/conc_amsr/ice_conc_sh_polstere-100_amsr2-tud_201906091200.nc\" [1]\n",
      "2019-07-12 17:52:37 URL: ftp://osisaf.met.no/prod/ice/conc_amsr/ice_conc_sh_polstere-100_amsr2-tud_201906101200.nc [15756372] -> \"seaice-concentration/prod/ice/conc_amsr/ice_conc_sh_polstere-100_amsr2-tud_201906101200.nc\" [1]\n",
      "2019-07-12 17:52:46 URL: ftp://osisaf.met.no/prod/ice/conc_amsr/ice_conc_sh_polstere-100_amsr2-tud_201906111200.nc [15756372] -> \"seaice-concentration/prod/ice/conc_amsr/ice_conc_sh_polstere-100_amsr2-tud_201906111200.nc\" [1]\n",
      "2019-07-12 17:52:56 URL: ftp://osisaf.met.no/prod/ice/conc_amsr/ice_conc_sh_polstere-100_amsr2-tud_201906121200.nc [15756372] -> \"seaice-concentration/prod/ice/conc_amsr/ice_conc_sh_polstere-100_amsr2-tud_201906121200.nc\" [1]\n",
      "2019-07-12 17:53:03 URL: ftp://osisaf.met.no/prod/ice/conc_amsr/ice_conc_sh_polstere-100_amsr2-tud_201906131200.nc [15756372] -> \"seaice-concentration/prod/ice/conc_amsr/ice_conc_sh_polstere-100_amsr2-tud_201906131200.nc\" [1]\n",
      "2019-07-12 17:53:10 URL: ftp://osisaf.met.no/prod/ice/conc_amsr/ice_conc_sh_polstere-100_amsr2-tud_201906141200.nc [15756372] -> \"seaice-concentration/prod/ice/conc_amsr/ice_conc_sh_polstere-100_amsr2-tud_201906141200.nc\" [1]\n",
      "2019-07-12 17:53:17 URL: ftp://osisaf.met.no/prod/ice/conc_amsr/ice_conc_sh_polstere-100_amsr2-tud_201906151200.nc [15756372] -> \"seaice-concentration/prod/ice/conc_amsr/ice_conc_sh_polstere-100_amsr2-tud_201906151200.nc\" [1]\n",
      "2019-07-12 17:53:24 URL: ftp://osisaf.met.no/prod/ice/conc_amsr/ice_conc_sh_polstere-100_amsr2-tud_201906161200.nc [15756372] -> \"seaice-concentration/prod/ice/conc_amsr/ice_conc_sh_polstere-100_amsr2-tud_201906161200.nc\" [1]\n"
     ]
    },
    {
     "name": "stdout",
     "output_type": "stream",
     "text": [
      "2019-07-12 17:53:31 URL: ftp://osisaf.met.no/prod/ice/conc_amsr/ice_conc_sh_polstere-100_amsr2-tud_201906171200.nc [15756372] -> \"seaice-concentration/prod/ice/conc_amsr/ice_conc_sh_polstere-100_amsr2-tud_201906171200.nc\" [1]\n",
      "2019-07-12 17:53:38 URL: ftp://osisaf.met.no/prod/ice/conc_amsr/ice_conc_sh_polstere-100_amsr2-tud_201906181200.nc [15756372] -> \"seaice-concentration/prod/ice/conc_amsr/ice_conc_sh_polstere-100_amsr2-tud_201906181200.nc\" [1]\n",
      "2019-07-12 17:53:45 URL: ftp://osisaf.met.no/prod/ice/conc_amsr/ice_conc_sh_polstere-100_amsr2-tud_201906191200.nc [15756372] -> \"seaice-concentration/prod/ice/conc_amsr/ice_conc_sh_polstere-100_amsr2-tud_201906191200.nc\" [1]\n",
      "2019-07-12 17:53:53 URL: ftp://osisaf.met.no/prod/ice/conc_amsr/ice_conc_sh_polstere-100_amsr2-tud_201906201200.nc [15756372] -> \"seaice-concentration/prod/ice/conc_amsr/ice_conc_sh_polstere-100_amsr2-tud_201906201200.nc\" [1]\n",
      "2019-07-12 17:54:00 URL: ftp://osisaf.met.no/prod/ice/conc_amsr/ice_conc_sh_polstere-100_amsr2-tud_201906211200.nc [15756372] -> \"seaice-concentration/prod/ice/conc_amsr/ice_conc_sh_polstere-100_amsr2-tud_201906211200.nc\" [1]\n",
      "2019-07-12 17:54:07 URL: ftp://osisaf.met.no/prod/ice/conc_amsr/ice_conc_sh_polstere-100_amsr2-tud_201906221200.nc [15756372] -> \"seaice-concentration/prod/ice/conc_amsr/ice_conc_sh_polstere-100_amsr2-tud_201906221200.nc\" [1]\n",
      "2019-07-12 17:54:14 URL: ftp://osisaf.met.no/prod/ice/conc_amsr/ice_conc_sh_polstere-100_amsr2-tud_201906231200.nc [15756372] -> \"seaice-concentration/prod/ice/conc_amsr/ice_conc_sh_polstere-100_amsr2-tud_201906231200.nc\" [1]\n",
      "2019-07-12 17:54:21 URL: ftp://osisaf.met.no/prod/ice/conc_amsr/ice_conc_sh_polstere-100_amsr2-tud_201906241200.nc [15756372] -> \"seaice-concentration/prod/ice/conc_amsr/ice_conc_sh_polstere-100_amsr2-tud_201906241200.nc\" [1]\n",
      "2019-07-12 17:54:28 URL: ftp://osisaf.met.no/prod/ice/conc_amsr/ice_conc_sh_polstere-100_amsr2-tud_201906251200.nc [15756372] -> \"seaice-concentration/prod/ice/conc_amsr/ice_conc_sh_polstere-100_amsr2-tud_201906251200.nc\" [1]\n",
      "2019-07-12 17:54:35 URL: ftp://osisaf.met.no/prod/ice/conc_amsr/ice_conc_sh_polstere-100_amsr2-tud_201906261200.nc [15756372] -> \"seaice-concentration/prod/ice/conc_amsr/ice_conc_sh_polstere-100_amsr2-tud_201906261200.nc\" [1]\n",
      "2019-07-12 17:54:42 URL: ftp://osisaf.met.no/prod/ice/conc_amsr/ice_conc_sh_polstere-100_amsr2-tud_201906271200.nc [15756372] -> \"seaice-concentration/prod/ice/conc_amsr/ice_conc_sh_polstere-100_amsr2-tud_201906271200.nc\" [1]\n",
      "2019-07-12 17:54:49 URL: ftp://osisaf.met.no/prod/ice/conc_amsr/ice_conc_sh_polstere-100_amsr2-tud_201906281200.nc [15756372] -> \"seaice-concentration/prod/ice/conc_amsr/ice_conc_sh_polstere-100_amsr2-tud_201906281200.nc\" [1]\n",
      "2019-07-12 17:54:56 URL: ftp://osisaf.met.no/prod/ice/conc_amsr/ice_conc_sh_polstere-100_amsr2-tud_201906291200.nc [15756372] -> \"seaice-concentration/prod/ice/conc_amsr/ice_conc_sh_polstere-100_amsr2-tud_201906291200.nc\" [1]\n",
      "2019-07-12 17:55:03 URL: ftp://osisaf.met.no/prod/ice/conc_amsr/ice_conc_sh_polstere-100_amsr2-tud_201906301200.nc [15756372] -> \"seaice-concentration/prod/ice/conc_amsr/ice_conc_sh_polstere-100_amsr2-tud_201906301200.nc\" [1]\n",
      "2019-07-12 17:55:09 URL: ftp://osisaf.met.no/prod/ice/conc_amsr/ice_conc_sh_polstere-100_amsr2-tud_201907011200.nc [15756372] -> \"seaice-concentration/prod/ice/conc_amsr/ice_conc_sh_polstere-100_amsr2-tud_201907011200.nc\" [1]\n",
      "2019-07-12 17:55:16 URL: ftp://osisaf.met.no/prod/ice/conc_amsr/ice_conc_sh_polstere-100_amsr2-tud_201907021200.nc [15756372] -> \"seaice-concentration/prod/ice/conc_amsr/ice_conc_sh_polstere-100_amsr2-tud_201907021200.nc\" [1]\n",
      "2019-07-12 17:55:23 URL: ftp://osisaf.met.no/prod/ice/conc_amsr/ice_conc_sh_polstere-100_amsr2-tud_201907031200.nc [15756372] -> \"seaice-concentration/prod/ice/conc_amsr/ice_conc_sh_polstere-100_amsr2-tud_201907031200.nc\" [1]\n",
      "2019-07-12 17:55:30 URL: ftp://osisaf.met.no/prod/ice/conc_amsr/ice_conc_sh_polstere-100_amsr2-tud_201907041200.nc [15756372] -> \"seaice-concentration/prod/ice/conc_amsr/ice_conc_sh_polstere-100_amsr2-tud_201907041200.nc\" [1]\n",
      "2019-07-12 17:55:37 URL: ftp://osisaf.met.no/prod/ice/conc_amsr/ice_conc_sh_polstere-100_amsr2-tud_201907051200.nc [15756372] -> \"seaice-concentration/prod/ice/conc_amsr/ice_conc_sh_polstere-100_amsr2-tud_201907051200.nc\" [1]\n",
      "2019-07-12 17:55:45 URL: ftp://osisaf.met.no/prod/ice/conc_amsr/ice_conc_sh_polstere-100_amsr2-tud_201907061200.nc [15756372] -> \"seaice-concentration/prod/ice/conc_amsr/ice_conc_sh_polstere-100_amsr2-tud_201907061200.nc\" [1]\n",
      "2019-07-12 17:55:52 URL: ftp://osisaf.met.no/prod/ice/conc_amsr/ice_conc_sh_polstere-100_amsr2-tud_201907071200.nc [15756372] -> \"seaice-concentration/prod/ice/conc_amsr/ice_conc_sh_polstere-100_amsr2-tud_201907071200.nc\" [1]\n",
      "2019-07-12 17:56:01 URL: ftp://osisaf.met.no/prod/ice/conc_amsr/ice_conc_sh_polstere-100_amsr2-tud_201907081200.nc [15756372] -> \"seaice-concentration/prod/ice/conc_amsr/ice_conc_sh_polstere-100_amsr2-tud_201907081200.nc\" [1]\n",
      "2019-07-12 17:56:08 URL: ftp://osisaf.met.no/prod/ice/conc_amsr/ice_conc_sh_polstere-100_amsr2-tud_201907091200.nc [15756372] -> \"seaice-concentration/prod/ice/conc_amsr/ice_conc_sh_polstere-100_amsr2-tud_201907091200.nc\" [1]\n",
      "2019-07-12 17:56:15 URL: ftp://osisaf.met.no/prod/ice/conc_amsr/ice_conc_sh_polstere-100_amsr2-tud_201907101200.nc [15756372] -> \"seaice-concentration/prod/ice/conc_amsr/ice_conc_sh_polstere-100_amsr2-tud_201907101200.nc\" [1]\n",
      "2019-07-12 17:56:22 URL: ftp://osisaf.met.no/prod/ice/conc_amsr/ice_conc_sh_polstere-100_amsr2-tud_201907111200.nc [15756372] -> \"seaice-concentration/prod/ice/conc_amsr/ice_conc_sh_polstere-100_amsr2-tud_201907111200.nc\" [1]\n",
      "2019-07-12 17:56:28 URL: ftp://osisaf.met.no/prod/ice/conc_amsr/ice_conc_sh_polstere-100_amsr2_201906091200.nc [15756368] -> \"seaice-concentration/prod/ice/conc_amsr/ice_conc_sh_polstere-100_amsr2_201906091200.nc\" [1]\n",
      "2019-07-12 17:56:36 URL: ftp://osisaf.met.no/prod/ice/conc_amsr/ice_conc_sh_polstere-100_amsr2_201906101200.nc [15756368] -> \"seaice-concentration/prod/ice/conc_amsr/ice_conc_sh_polstere-100_amsr2_201906101200.nc\" [1]\n",
      "2019-07-12 17:56:43 URL: ftp://osisaf.met.no/prod/ice/conc_amsr/ice_conc_sh_polstere-100_amsr2_201906111200.nc [15756368] -> \"seaice-concentration/prod/ice/conc_amsr/ice_conc_sh_polstere-100_amsr2_201906111200.nc\" [1]\n",
      "2019-07-12 17:56:49 URL: ftp://osisaf.met.no/prod/ice/conc_amsr/ice_conc_sh_polstere-100_amsr2_201906121200.nc [15756368] -> \"seaice-concentration/prod/ice/conc_amsr/ice_conc_sh_polstere-100_amsr2_201906121200.nc\" [1]\n",
      "2019-07-12 17:56:56 URL: ftp://osisaf.met.no/prod/ice/conc_amsr/ice_conc_sh_polstere-100_amsr2_201906131200.nc [15756368] -> \"seaice-concentration/prod/ice/conc_amsr/ice_conc_sh_polstere-100_amsr2_201906131200.nc\" [1]\n",
      "2019-07-12 17:57:04 URL: ftp://osisaf.met.no/prod/ice/conc_amsr/ice_conc_sh_polstere-100_amsr2_201906141200.nc [15756368] -> \"seaice-concentration/prod/ice/conc_amsr/ice_conc_sh_polstere-100_amsr2_201906141200.nc\" [1]\n",
      "2019-07-12 17:57:12 URL: ftp://osisaf.met.no/prod/ice/conc_amsr/ice_conc_sh_polstere-100_amsr2_201906151200.nc [15756368] -> \"seaice-concentration/prod/ice/conc_amsr/ice_conc_sh_polstere-100_amsr2_201906151200.nc\" [1]\n",
      "2019-07-12 17:57:19 URL: ftp://osisaf.met.no/prod/ice/conc_amsr/ice_conc_sh_polstere-100_amsr2_201906161200.nc [15756368] -> \"seaice-concentration/prod/ice/conc_amsr/ice_conc_sh_polstere-100_amsr2_201906161200.nc\" [1]\n",
      "2019-07-12 17:57:26 URL: ftp://osisaf.met.no/prod/ice/conc_amsr/ice_conc_sh_polstere-100_amsr2_201906171200.nc [15756368] -> \"seaice-concentration/prod/ice/conc_amsr/ice_conc_sh_polstere-100_amsr2_201906171200.nc\" [1]\n",
      "2019-07-12 17:57:34 URL: ftp://osisaf.met.no/prod/ice/conc_amsr/ice_conc_sh_polstere-100_amsr2_201906181200.nc [15756368] -> \"seaice-concentration/prod/ice/conc_amsr/ice_conc_sh_polstere-100_amsr2_201906181200.nc\" [1]\n",
      "2019-07-12 17:57:41 URL: ftp://osisaf.met.no/prod/ice/conc_amsr/ice_conc_sh_polstere-100_amsr2_201906191200.nc [15756368] -> \"seaice-concentration/prod/ice/conc_amsr/ice_conc_sh_polstere-100_amsr2_201906191200.nc\" [1]\n",
      "2019-07-12 17:57:48 URL: ftp://osisaf.met.no/prod/ice/conc_amsr/ice_conc_sh_polstere-100_amsr2_201906201200.nc [15756368] -> \"seaice-concentration/prod/ice/conc_amsr/ice_conc_sh_polstere-100_amsr2_201906201200.nc\" [1]\n"
     ]
    },
    {
     "name": "stdout",
     "output_type": "stream",
     "text": [
      "2019-07-12 17:57:55 URL: ftp://osisaf.met.no/prod/ice/conc_amsr/ice_conc_sh_polstere-100_amsr2_201906211200.nc [15756368] -> \"seaice-concentration/prod/ice/conc_amsr/ice_conc_sh_polstere-100_amsr2_201906211200.nc\" [1]\n",
      "2019-07-12 17:58:03 URL: ftp://osisaf.met.no/prod/ice/conc_amsr/ice_conc_sh_polstere-100_amsr2_201906221200.nc [15756368] -> \"seaice-concentration/prod/ice/conc_amsr/ice_conc_sh_polstere-100_amsr2_201906221200.nc\" [1]\n",
      "2019-07-12 17:58:10 URL: ftp://osisaf.met.no/prod/ice/conc_amsr/ice_conc_sh_polstere-100_amsr2_201906231200.nc [15756368] -> \"seaice-concentration/prod/ice/conc_amsr/ice_conc_sh_polstere-100_amsr2_201906231200.nc\" [1]\n",
      "2019-07-12 17:58:17 URL: ftp://osisaf.met.no/prod/ice/conc_amsr/ice_conc_sh_polstere-100_amsr2_201906241200.nc [15756368] -> \"seaice-concentration/prod/ice/conc_amsr/ice_conc_sh_polstere-100_amsr2_201906241200.nc\" [1]\n",
      "2019-07-12 17:58:24 URL: ftp://osisaf.met.no/prod/ice/conc_amsr/ice_conc_sh_polstere-100_amsr2_201906251200.nc [15756368] -> \"seaice-concentration/prod/ice/conc_amsr/ice_conc_sh_polstere-100_amsr2_201906251200.nc\" [1]\n",
      "2019-07-12 17:58:31 URL: ftp://osisaf.met.no/prod/ice/conc_amsr/ice_conc_sh_polstere-100_amsr2_201906261200.nc [15756368] -> \"seaice-concentration/prod/ice/conc_amsr/ice_conc_sh_polstere-100_amsr2_201906261200.nc\" [1]\n",
      "2019-07-12 17:58:39 URL: ftp://osisaf.met.no/prod/ice/conc_amsr/ice_conc_sh_polstere-100_amsr2_201906271200.nc [15756368] -> \"seaice-concentration/prod/ice/conc_amsr/ice_conc_sh_polstere-100_amsr2_201906271200.nc\" [1]\n",
      "2019-07-12 17:58:46 URL: ftp://osisaf.met.no/prod/ice/conc_amsr/ice_conc_sh_polstere-100_amsr2_201906281200.nc [15756368] -> \"seaice-concentration/prod/ice/conc_amsr/ice_conc_sh_polstere-100_amsr2_201906281200.nc\" [1]\n",
      "2019-07-12 17:58:53 URL: ftp://osisaf.met.no/prod/ice/conc_amsr/ice_conc_sh_polstere-100_amsr2_201906291200.nc [15756368] -> \"seaice-concentration/prod/ice/conc_amsr/ice_conc_sh_polstere-100_amsr2_201906291200.nc\" [1]\n",
      "2019-07-12 17:59:00 URL: ftp://osisaf.met.no/prod/ice/conc_amsr/ice_conc_sh_polstere-100_amsr2_201906301200.nc [15756368] -> \"seaice-concentration/prod/ice/conc_amsr/ice_conc_sh_polstere-100_amsr2_201906301200.nc\" [1]\n",
      "2019-07-12 17:59:09 URL: ftp://osisaf.met.no/prod/ice/conc_amsr/ice_conc_sh_polstere-100_amsr2_201907011200.nc [15756368] -> \"seaice-concentration/prod/ice/conc_amsr/ice_conc_sh_polstere-100_amsr2_201907011200.nc\" [1]\n",
      "2019-07-12 17:59:16 URL: ftp://osisaf.met.no/prod/ice/conc_amsr/ice_conc_sh_polstere-100_amsr2_201907021200.nc [15756368] -> \"seaice-concentration/prod/ice/conc_amsr/ice_conc_sh_polstere-100_amsr2_201907021200.nc\" [1]\n",
      "2019-07-12 17:59:23 URL: ftp://osisaf.met.no/prod/ice/conc_amsr/ice_conc_sh_polstere-100_amsr2_201907031200.nc [15756368] -> \"seaice-concentration/prod/ice/conc_amsr/ice_conc_sh_polstere-100_amsr2_201907031200.nc\" [1]\n",
      "2019-07-12 17:59:30 URL: ftp://osisaf.met.no/prod/ice/conc_amsr/ice_conc_sh_polstere-100_amsr2_201907041200.nc [15756368] -> \"seaice-concentration/prod/ice/conc_amsr/ice_conc_sh_polstere-100_amsr2_201907041200.nc\" [1]\n",
      "2019-07-12 18:06:46 URL: ftp://osisaf.met.no/prod/ice/conc_amsr/ice_conc_sh_polstere-100_amsr2_201907051200.nc [15756368] -> \"seaice-concentration/prod/ice/conc_amsr/ice_conc_sh_polstere-100_amsr2_201907051200.nc\" [1]\n",
      "2019-07-12 18:07:01 URL: ftp://osisaf.met.no/prod/ice/conc_amsr/ice_conc_sh_polstere-100_amsr2_201907061200.nc [15756368] -> \"seaice-concentration/prod/ice/conc_amsr/ice_conc_sh_polstere-100_amsr2_201907061200.nc\" [1]\n",
      "2019-07-12 18:07:10 URL: ftp://osisaf.met.no/prod/ice/conc_amsr/ice_conc_sh_polstere-100_amsr2_201907071200.nc [15756368] -> \"seaice-concentration/prod/ice/conc_amsr/ice_conc_sh_polstere-100_amsr2_201907071200.nc\" [1]\n",
      "2019-07-12 18:07:17 URL: ftp://osisaf.met.no/prod/ice/conc_amsr/ice_conc_sh_polstere-100_amsr2_201907081200.nc [15756368] -> \"seaice-concentration/prod/ice/conc_amsr/ice_conc_sh_polstere-100_amsr2_201907081200.nc\" [1]\n",
      "2019-07-12 18:07:24 URL: ftp://osisaf.met.no/prod/ice/conc_amsr/ice_conc_sh_polstere-100_amsr2_201907091200.nc [15756368] -> \"seaice-concentration/prod/ice/conc_amsr/ice_conc_sh_polstere-100_amsr2_201907091200.nc\" [1]\n",
      "2019-07-12 18:07:30 URL: ftp://osisaf.met.no/prod/ice/conc_amsr/ice_conc_sh_polstere-100_amsr2_201907101200.nc [15756368] -> \"seaice-concentration/prod/ice/conc_amsr/ice_conc_sh_polstere-100_amsr2_201907101200.nc\" [1]\n",
      "2019-07-12 18:07:37 URL: ftp://osisaf.met.no/prod/ice/conc_amsr/ice_conc_sh_polstere-100_amsr2_201907111200.nc [15756368] -> \"seaice-concentration/prod/ice/conc_amsr/ice_conc_sh_polstere-100_amsr2_201907111200.nc\" [1]\n",
      "BEENDET --2019-07-12 18:07:37--\n",
      "Verstrichene Zeit: 3h 55m 9s\n",
      "Geholt: 133 Dateien, 2,2G in 42m 18s (920 KB/s)\n"
     ]
    }
   ],
   "source": [
    "# download sea ice concentration into folder 'seaice-concentration'\n",
    "!wget -nv --mirror --no-host-directories --user=anonymous --password=anonymous -P seaice-concentration ftp://osisaf.met.no/prod/ice/conc_amsr/"
   ]
  },
  {
   "cell_type": "code",
   "execution_count": 8,
   "metadata": {},
   "outputs": [
    {
     "name": "stdout",
     "output_type": "stream",
     "text": [
      "ice_drift_nh_polstere-625_multi-oi_201906291200-201907011200.nc\r\n",
      "ice_drift_nh_polstere-625_multi-oi_201906301200-201907021200.nc\r\n",
      "ice_drift_nh_polstere-625_multi-oi_201907011200-201907031200.nc\r\n",
      "ice_drift_nh_polstere-625_multi-oi_201907021200-201907041200.nc\r\n",
      "ice_drift_nh_polstere-625_multi-oi_201907031200-201907051200.nc\r\n",
      "ice_drift_nh_polstere-625_multi-oi_201907041200-201907061200.nc\r\n",
      "ice_drift_nh_polstere-625_multi-oi_201907051200-201907071200.nc\r\n",
      "ice_drift_nh_polstere-625_multi-oi_201907061200-201907081200.nc\r\n",
      "ice_drift_nh_polstere-625_multi-oi_201907071200-201907091200.nc\r\n",
      "ice_drift_nh_polstere-625_multi-oi_201907081200-201907101200.nc\r\n",
      "ice_drift_nh_polstere-625_multi-oi_201907091200-201907111200.nc\r\n",
      "ice_drift_nh_polstere-625_multi-oi_201907101200-201907121200.nc\r\n",
      "ice_drift_nh_polstere-625_multi-oi_201907111200-201907131200.nc\r\n",
      "ice_drift_nh_polstere-625_multi-oi_201907121200-201907141200.nc\r\n",
      "ice_drift_nh_polstere-625_multi-oi_201907131200-201907151200.nc\r\n",
      "ice_drift_nh_polstere-625_multi-oi_201907141200-201907161200.nc\r\n",
      "ice_drift_nh_polstere-625_multi-oi_201907151200-201907171200.nc\r\n",
      "ice_drift_nh_polstere-625_multi-oi_201907161200-201907181200.nc\r\n",
      "ice_drift_nh_polstere-625_multi-oi_201907171200-201907191200.nc\r\n",
      "ice_drift_nh_polstere-625_multi-oi_201907181200-201907201200.nc\r\n",
      "ice_drift_nh_polstere-625_multi-oi_201907191200-201907211200.nc\r\n",
      "ice_drift_nh_polstere-625_multi-oi_201907201200-201907221200.nc\r\n",
      "ice_drift_nh_polstere-625_multi-oi_201907211200-201907231200.nc\r\n",
      "ice_drift_nh_polstere-625_multi-oi_201907221200-201907241200.nc\r\n",
      "ice_drift_nh_polstere-625_multi-oi_201907231200-201907251200.nc\r\n",
      "ice_drift_nh_polstere-625_multi-oi_201907241200-201907261200.nc\r\n",
      "ice_drift_nh_polstere-625_multi-oi_201907251200-201907271200.nc\r\n",
      "ice_drift_nh_polstere-625_multi-oi_201907261200-201907281200.nc\r\n",
      "ice_drift_nh_polstere-625_multi-oi_201907271200-201907291200.nc\r\n",
      "ice_drift_nh_polstere-625_multi-oi_201907281200-201907301200.nc\r\n",
      "ice_drift_nh_polstere-625_multi-oi_201907291200-201907311200.nc\r\n",
      "ice_drift_sh_polstere-625_multi-oi_201906291200-201907011200.nc\r\n",
      "ice_drift_sh_polstere-625_multi-oi_201906301200-201907021200.nc\r\n",
      "ice_drift_sh_polstere-625_multi-oi_201907011200-201907031200.nc\r\n",
      "ice_drift_sh_polstere-625_multi-oi_201907021200-201907041200.nc\r\n",
      "ice_drift_sh_polstere-625_multi-oi_201907031200-201907051200.nc\r\n",
      "ice_drift_sh_polstere-625_multi-oi_201907041200-201907061200.nc\r\n",
      "ice_drift_sh_polstere-625_multi-oi_201907051200-201907071200.nc\r\n",
      "ice_drift_sh_polstere-625_multi-oi_201907061200-201907081200.nc\r\n",
      "ice_drift_sh_polstere-625_multi-oi_201907071200-201907091200.nc\r\n",
      "ice_drift_sh_polstere-625_multi-oi_201907081200-201907101200.nc\r\n",
      "ice_drift_sh_polstere-625_multi-oi_201907091200-201907111200.nc\r\n",
      "ice_drift_sh_polstere-625_multi-oi_201907101200-201907121200.nc\r\n",
      "ice_drift_sh_polstere-625_multi-oi_201907111200-201907131200.nc\r\n",
      "ice_drift_sh_polstere-625_multi-oi_201907121200-201907141200.nc\r\n",
      "ice_drift_sh_polstere-625_multi-oi_201907131200-201907151200.nc\r\n",
      "ice_drift_sh_polstere-625_multi-oi_201907141200-201907161200.nc\r\n",
      "ice_drift_sh_polstere-625_multi-oi_201907151200-201907171200.nc\r\n",
      "ice_drift_sh_polstere-625_multi-oi_201907161200-201907181200.nc\r\n",
      "ice_drift_sh_polstere-625_multi-oi_201907171200-201907191200.nc\r\n",
      "ice_drift_sh_polstere-625_multi-oi_201907181200-201907201200.nc\r\n",
      "ice_drift_sh_polstere-625_multi-oi_201907191200-201907211200.nc\r\n",
      "ice_drift_sh_polstere-625_multi-oi_201907201200-201907221200.nc\r\n",
      "ice_drift_sh_polstere-625_multi-oi_201907211200-201907231200.nc\r\n",
      "ice_drift_sh_polstere-625_multi-oi_201907221200-201907241200.nc\r\n",
      "ice_drift_sh_polstere-625_multi-oi_201907231200-201907251200.nc\r\n",
      "ice_drift_sh_polstere-625_multi-oi_201907241200-201907261200.nc\r\n",
      "ice_drift_sh_polstere-625_multi-oi_201907251200-201907271200.nc\r\n",
      "ice_drift_sh_polstere-625_multi-oi_201907261200-201907281200.nc\r\n",
      "ice_drift_sh_polstere-625_multi-oi_201907271200-201907291200.nc\r\n",
      "ice_drift_sh_polstere-625_multi-oi_201907281200-201907301200.nc\r\n",
      "ice_drift_sh_polstere-625_multi-oi_201907291200-201907311200.nc\r\n"
     ]
    }
   ],
   "source": [
    "ls drift-velocities/archive/ice/drift_lr/merged/2019/07/"
   ]
  },
  {
   "cell_type": "code",
   "execution_count": 9,
   "metadata": {},
   "outputs": [
    {
     "name": "stdout",
     "output_type": "stream",
     "text": [
      "netcdf ice_drift_nh_polstere-625_multi-oi_201906291200-201907011200 {\r\n",
      "dimensions:\r\n",
      "\ttime = 1 ;\r\n",
      "\tnv = 2 ;\r\n",
      "\txc = 119 ;\r\n",
      "\tyc = 177 ;\r\n",
      "variables:\r\n",
      "\tint Polar_Stereographic_Grid ;\r\n",
      "\t\tPolar_Stereographic_Grid:grid_mapping_name = \"polar_stereographic\" ;\r\n",
      "\t\tPolar_Stereographic_Grid:straight_vertical_longitude_from_pole = -45.f ;\r\n",
      "\t\tPolar_Stereographic_Grid:latitude_of_projection_origin = 90.f ;\r\n",
      "\t\tPolar_Stereographic_Grid:standard_parallel = 70.f ;\r\n",
      "\t\tPolar_Stereographic_Grid:false_easting = 0.f ;\r\n",
      "\t\tPolar_Stereographic_Grid:false_northing = 0.f ;\r\n",
      "\t\tPolar_Stereographic_Grid:semi_major_axis = 6378273.f ;\r\n",
      "\t\tPolar_Stereographic_Grid:semi_minor_axis = 6356890.f ;\r\n",
      "\t\tPolar_Stereographic_Grid:proj4_string = \"+proj=stere +a=6378273 +b=6356889.44891 +lat_0=90 +lat_ts=70 +lon_0=-45\" ;\r\n",
      "\tdouble time(time) ;\r\n",
      "\t\ttime:axis = \"T\" ;\r\n",
      "\t\ttime:long_name = \"reference time of product\" ;\r\n",
      "\t\ttime:standard_name = \"time\" ;\r\n",
      "\t\ttime:units = \"seconds since 1978-01-01 00:00:00\" ;\r\n",
      "\t\ttime:calendar = \"standard\" ;\r\n",
      "\t\ttime:bounds = \"time_bnds\" ;\r\n",
      "\t\ttime:comment = \"The time scalar dimension holds the date of _end_ of motion.\" ;\r\n",
      "\tdouble time_bnds(time, nv) ;\r\n",
      "\t\ttime_bnds:units = \"seconds since 1978-01-01 00:00:00\" ;\r\n",
      "\tdouble xc(xc) ;\r\n",
      "\t\txc:axis = \"X\" ;\r\n",
      "\t\txc:units = \"km\" ;\r\n",
      "\t\txc:long_name = \"x coordinate of projection (eastings)\" ;\r\n",
      "\t\txc:standard_name = \"projection_x_coordinate\" ;\r\n",
      "\tdouble yc(yc) ;\r\n",
      "\t\tyc:axis = \"Y\" ;\r\n",
      "\t\tyc:units = \"km\" ;\r\n",
      "\t\tyc:long_name = \"y coordinate of projection (northings)\" ;\r\n",
      "\t\tyc:standard_name = \"projection_y_coordinate\" ;\r\n",
      "\tfloat lat(yc, xc) ;\r\n",
      "\t\tlat:long_name = \"latitude coordinate\" ;\r\n",
      "\t\tlat:standard_name = \"latitude\" ;\r\n",
      "\t\tlat:units = \"degrees_north\" ;\r\n",
      "\tfloat lon(yc, xc) ;\r\n",
      "\t\tlon:long_name = \"longitude coordinate\" ;\r\n",
      "\t\tlon:standard_name = \"longitude\" ;\r\n",
      "\t\tlon:units = \"degrees_east\" ;\r\n",
      "\tint dt0(time, yc, xc) ;\r\n",
      "\t\tdt0:long_name = \"delta time for start of displacement\" ;\r\n",
      "\t\tdt0:units = \"seconds\" ;\r\n",
      "\t\tdt0:_FillValue = 2147483647 ;\r\n",
      "\t\tdt0:valid_min = -43200 ;\r\n",
      "\t\tdt0:valid_max = 43200 ;\r\n",
      "\t\tdt0:grid_mapping = \"Polar_Stereographic_Grid\" ;\r\n",
      "\t\tdt0:coordinates = \"lat lon\" ;\r\n",
      "\tfloat lon1(time, yc, xc) ;\r\n",
      "\t\tlon1:long_name = \"longitude at end of displacement\" ;\r\n",
      "\t\tlon1:units = \"degrees_east\" ;\r\n",
      "\t\tlon1:_FillValue = -1.e+10f ;\r\n",
      "\t\tlon1:grid_mapping = \"Polar_Stereographic_Grid\" ;\r\n",
      "\t\tlon1:coordinates = \"lat lon\" ;\r\n",
      "\tfloat lat1(time, yc, xc) ;\r\n",
      "\t\tlat1:long_name = \"latitude at end of displacement\" ;\r\n",
      "\t\tlat1:units = \"degrees_north\" ;\r\n",
      "\t\tlat1:_FillValue = -1.e+10f ;\r\n",
      "\t\tlat1:grid_mapping = \"Polar_Stereographic_Grid\" ;\r\n",
      "\t\tlat1:coordinates = \"lat lon\" ;\r\n",
      "\tint dt1(time, yc, xc) ;\r\n",
      "\t\tdt1:long_name = \"delta time for end of displacement\" ;\r\n",
      "\t\tdt1:units = \"seconds\" ;\r\n",
      "\t\tdt1:_FillValue = 2147483647 ;\r\n",
      "\t\tdt1:valid_min = -43200 ;\r\n",
      "\t\tdt1:valid_max = 43200 ;\r\n",
      "\t\tdt1:grid_mapping = \"Polar_Stereographic_Grid\" ;\r\n",
      "\t\tdt1:coordinates = \"lat lon\" ;\r\n",
      "\tfloat dX(time, yc, xc) ;\r\n",
      "\t\tdX:long_name = \"component of the displacement along the x axis of the grid\" ;\r\n",
      "\t\tdX:standard_name = \"sea_ice_x_displacement\" ;\r\n",
      "\t\tdX:units = \"km\" ;\r\n",
      "\t\tdX:_FillValue = -1.e+10f ;\r\n",
      "\t\tdX:grid_mapping = \"Polar_Stereographic_Grid\" ;\r\n",
      "\t\tdX:coordinates = \"lat lon\" ;\r\n",
      "\t\tdX:ancillary_variables = \"uncert_dX_and_dY status_flag\" ;\r\n",
      "\tfloat dY(time, yc, xc) ;\r\n",
      "\t\tdY:long_name = \"component of the displacement along the y axis of the grid\" ;\r\n",
      "\t\tdY:standard_name = \"sea_ice_y_displacement\" ;\r\n",
      "\t\tdY:units = \"km\" ;\r\n",
      "\t\tdY:_FillValue = -1.e+10f ;\r\n",
      "\t\tdY:grid_mapping = \"Polar_Stereographic_Grid\" ;\r\n",
      "\t\tdY:coordinates = \"lat lon\" ;\r\n",
      "\t\tdY:ancillary_variables = \"uncert_dX_and_dY status_flag\" ;\r\n",
      "\tbyte status_flag(time, yc, xc) ;\r\n",
      "\t\tstatus_flag:long_name = \"rejection and quality level flag\" ;\r\n",
      "\t\tstatus_flag:standard_name = \"sea_ice_x_displacement status_flag\" ;\r\n",
      "\t\tstatus_flag:valid_min = 0b ;\r\n",
      "\t\tstatus_flag:valid_max = 30b ;\r\n",
      "\t\tstatus_flag:grid_mapping = \"Polar_Stereographic_Grid\" ;\r\n",
      "\t\tstatus_flag:coordinates = \"lat lon\" ;\r\n",
      "\t\tstatus_flag:flag_values = 0b, 1b, 2b, 3b, 4b, 10b, 11b, 12b, 13b, 20b, 21b, 22b, 30b ;\r\n",
      "\t\tstatus_flag:flag_meanings = \"missing_input_data over_land no_ice close_to_coast_or_edge summer_period processing_failed too_low_correlation not_enough_neighbours filtered_by_neighbours smaller_pattern corrected_by_neighbours interpolated nominal_quality\" ;\r\n",
      "\t\tstatus_flag:flag_descriptions = \"\\n\",\r\n",
      "\t\t\t\"  0 -> missing satellite image data\\n\",\r\n",
      "\t\t\t\"  1 -> grid point is over land\\n\",\r\n",
      "\t\t\t\"  2 -> grid point is not over sufficient ice\\n\",\r\n",
      "\t\t\t\"  3 -> grid point is too close to coast or edge\\n\",\r\n",
      "\t\t\t\"  4 -> unreliable vector was removed because in summer period\\n\",\r\n",
      "\t\t\t\" 10 -> optimization of the correlation (CMCC) failed\\n\",\r\n",
      "\t\t\t\" 11 -> vector removed because too low cross-correlation \\n\",\r\n",
      "\t\t\t\" 12 -> vector removed because not enough neighbouring vectors\\n\",\r\n",
      "\t\t\t\" 13 -> vector removed because motion is not consistent with neighbours\\n\",\r\n",
      "\t\t\t\" 20 -> vector processed using a smaller matching window\\n\",\r\n",
      "\t\t\t\" 21 -> vector corrected using the neighbouring vectors\\n\",\r\n",
      "\t\t\t\" 22 -> vector interpolated from the neighbours (multi-sensor product)\\n\",\r\n",
      "\t\t\t\" 30 -> vector was retrieved with nominal CMCC algorithm\" ;\r\n",
      "\tfloat uncert_dX_and_dY(time, yc, xc) ;\r\n",
      "\t\tuncert_dX_and_dY:long_name = \"uncertainty (1 standard deviation) of dX and dY components of the drift vector\" ;\r\n",
      "\t\tuncert_dX_and_dY:standard_name = \"sea_ice_x_displacement standard_error\" ;\r\n",
      "\t\tuncert_dX_and_dY:units = \"km\" ;\r\n",
      "\t\tuncert_dX_and_dY:_FillValue = -1.e+10f ;\r\n",
      "\t\tuncert_dX_and_dY:grid_mapping = \"Polar_Stereographic_Grid\" ;\r\n",
      "\t\tuncert_dX_and_dY:coordinates = \"lat lon\" ;\r\n",
      "\r\n",
      "// global attributes:\r\n",
      "\t\t:title = \"Daily Low Resolution Sea Ice Displacement from OSI SAF EUMETSAT\" ;\r\n",
      "\t\t:product_id = \"OSI-405\" ;\r\n",
      "\t\t:product_name = \"osi_saf_lr_ice_drift\" ;\r\n",
      "\t\t:product_status = \"operational\" ;\r\n",
      "\t\t:abstract = \"Gridded ice displacement fields obtained from  satellite  image\\n\",\r\n",
      "\t\t\t\"processing. It is a low resolution product (62.5km resolution).\\n\",\r\n",
      "\t\t\t\"The time span of  the  ice  displacement  is  approximately  48\\n\",\r\n",
      "\t\t\t\"hours. This dataset is intended both for  process  studies  and\\n\",\r\n",
      "\t\t\t\"data assimilation. Daily products  are  freely  available  from\\n\",\r\n",
      "\t\t\t\"the  OSI SAF distribution chain.\" ;\r\n",
      "\t\t:topiccategory = \"Oceans ClimatologyMeteorologyAtmosphere\" ;\r\n",
      "\t\t:keywords = \"Sea Ice Motion,Sea Ice,Oceanography,Meteorology,Climate,Remote Sensing\" ;\r\n",
      "\t\t:gcmd_keywords = \"Cryosphere > Sea Ice > Sea Ice Motion\\n\",\r\n",
      "\t\t\t\"Oceans > Sea Ice > Sea Ice Motion\\n\",\r\n",
      "\t\t\t\"Geographic Region > Northern Hemisphere\\n\",\r\n",
      "\t\t\t\"Vertical Location > Sea Surface\\n\",\r\n",
      "\t\t\t\"EUMETSAT/OSISAF > Satellite Application Facility on Ocean and Sea Ice, European Organisation for the Exploitation of Meteorological Satellites\" ;\r\n",
      "\t\t:northernmost_latitude = 90.f ;\r\n",
      "\t\t:southernmost_latitude = 31.96109f ;\r\n",
      "\t\t:easternmost_longitude = 180.f ;\r\n",
      "\t\t:westernmost_longitude = -180.f ;\r\n",
      "\t\t:activity_type = \"Space borne instrument\" ;\r\n",
      "\t\t:area = \"Northern Hemisphere\" ;\r\n",
      "\t\t:instrument_type = \"Multi-sensor analysis\" ;\r\n",
      "\t\t:platform_name = \"Multi-sensor analysis\" ;\r\n",
      "\t\t:start_date = \"2019-06-29 12:00:00\" ;\r\n",
      "\t\t:stop_date = \"2019-07-01 12:00:00\" ;\r\n",
      "\t\t:project_name = \"EUMETSAT OSI SAF\" ;\r\n",
      "\t\t:institution = \"EUMETSAT OSI SAF\" ;\r\n",
      "\t\t:PI_name = \"Thomas Lavergne\" ;\r\n",
      "\t\t:contact = \"osisaf-manager@met.no\" ;\r\n",
      "\t\t:distribution_statement = \"Free\" ;\r\n",
      "\t\t:copyright_statement = \"Copyright 2019 EUMETSAT\" ;\r\n",
      "\t\t:references = \"Product User Manual for OSI-405-c, Lavergne, v1.8, 2016\\n\",\r\n",
      "\t\t\t\"Validation Report for OSI-405-c, Lavergne, v5, 2016\\n\",\r\n",
      "\t\t\t\"Algorithm Theoretical Basis Document for OSI-405-c, Lavergne, v1.3, 2016\\n\",\r\n",
      "\t\t\t\"http://osisaf.met.no\\n\",\r\n",
      "\t\t\t\"http://osi-saf.org\" ;\r\n",
      "\t\t:history = \"2019-07-02 creation\" ;\r\n",
      "\t\t:product_version = \"2.0\" ;\r\n",
      "\t\t:software_version = \"5.1\" ;\r\n",
      "\t\t:netcdf_version = \"3.6.3\" ;\r\n",
      "\t\t:Conventions = \"CF-1.4\" ;\r\n",
      "}\r\n"
     ]
    }
   ],
   "source": [
    "!ncdump -h drift-velocities/archive/ice/drift_lr/merged/2019/07/ice_drift_nh_polstere-625_multi-oi_201906291200-201907011200.nc"
   ]
  },
  {
   "cell_type": "markdown",
   "metadata": {
    "collapsed": true
   },
   "source": [
    "### load data"
   ]
  },
  {
   "cell_type": "code",
   "execution_count": 10,
   "metadata": {},
   "outputs": [
    {
     "name": "stdout",
     "output_type": "stream",
     "text": [
      "netcdf ice_drift_nh_polstere-625_multi-oi_201907291200-201907311200 {\r\n",
      "dimensions:\r\n",
      "\ttime = 1 ;\r\n",
      "\tnv = 2 ;\r\n",
      "\txc = 119 ;\r\n",
      "\tyc = 177 ;\r\n",
      "variables:\r\n",
      "\tint Polar_Stereographic_Grid ;\r\n",
      "\t\tPolar_Stereographic_Grid:grid_mapping_name = \"polar_stereographic\" ;\r\n",
      "\t\tPolar_Stereographic_Grid:straight_vertical_longitude_from_pole = -45.f ;\r\n",
      "\t\tPolar_Stereographic_Grid:latitude_of_projection_origin = 90.f ;\r\n",
      "\t\tPolar_Stereographic_Grid:standard_parallel = 70.f ;\r\n",
      "\t\tPolar_Stereographic_Grid:false_easting = 0.f ;\r\n",
      "\t\tPolar_Stereographic_Grid:false_northing = 0.f ;\r\n",
      "\t\tPolar_Stereographic_Grid:semi_major_axis = 6378273.f ;\r\n",
      "\t\tPolar_Stereographic_Grid:semi_minor_axis = 6356890.f ;\r\n",
      "\t\tPolar_Stereographic_Grid:proj4_string = \"+proj=stere +a=6378273 +b=6356889.44891 +lat_0=90 +lat_ts=70 +lon_0=-45\" ;\r\n",
      "\tdouble time(time) ;\r\n",
      "\t\ttime:axis = \"T\" ;\r\n",
      "\t\ttime:long_name = \"reference time of product\" ;\r\n",
      "\t\ttime:standard_name = \"time\" ;\r\n",
      "\t\ttime:units = \"seconds since 1978-01-01 00:00:00\" ;\r\n",
      "\t\ttime:calendar = \"standard\" ;\r\n",
      "\t\ttime:bounds = \"time_bnds\" ;\r\n",
      "\t\ttime:comment = \"The time scalar dimension holds the date of _end_ of motion.\" ;\r\n",
      "\tdouble time_bnds(time, nv) ;\r\n",
      "\t\ttime_bnds:units = \"seconds since 1978-01-01 00:00:00\" ;\r\n",
      "\tdouble xc(xc) ;\r\n",
      "\t\txc:axis = \"X\" ;\r\n",
      "\t\txc:units = \"km\" ;\r\n",
      "\t\txc:long_name = \"x coordinate of projection (eastings)\" ;\r\n",
      "\t\txc:standard_name = \"projection_x_coordinate\" ;\r\n",
      "\tdouble yc(yc) ;\r\n",
      "\t\tyc:axis = \"Y\" ;\r\n",
      "\t\tyc:units = \"km\" ;\r\n",
      "\t\tyc:long_name = \"y coordinate of projection (northings)\" ;\r\n",
      "\t\tyc:standard_name = \"projection_y_coordinate\" ;\r\n",
      "\tfloat lat(yc, xc) ;\r\n",
      "\t\tlat:long_name = \"latitude coordinate\" ;\r\n",
      "\t\tlat:standard_name = \"latitude\" ;\r\n",
      "\t\tlat:units = \"degrees_north\" ;\r\n",
      "\tfloat lon(yc, xc) ;\r\n",
      "\t\tlon:long_name = \"longitude coordinate\" ;\r\n",
      "\t\tlon:standard_name = \"longitude\" ;\r\n",
      "\t\tlon:units = \"degrees_east\" ;\r\n",
      "\tint dt0(time, yc, xc) ;\r\n",
      "\t\tdt0:long_name = \"delta time for start of displacement\" ;\r\n",
      "\t\tdt0:units = \"seconds\" ;\r\n",
      "\t\tdt0:_FillValue = 2147483647 ;\r\n",
      "\t\tdt0:valid_min = -43200 ;\r\n",
      "\t\tdt0:valid_max = 43200 ;\r\n",
      "\t\tdt0:grid_mapping = \"Polar_Stereographic_Grid\" ;\r\n",
      "\t\tdt0:coordinates = \"lat lon\" ;\r\n",
      "\tfloat lon1(time, yc, xc) ;\r\n",
      "\t\tlon1:long_name = \"longitude at end of displacement\" ;\r\n",
      "\t\tlon1:units = \"degrees_east\" ;\r\n",
      "\t\tlon1:_FillValue = -1.e+10f ;\r\n",
      "\t\tlon1:grid_mapping = \"Polar_Stereographic_Grid\" ;\r\n",
      "\t\tlon1:coordinates = \"lat lon\" ;\r\n",
      "\tfloat lat1(time, yc, xc) ;\r\n",
      "\t\tlat1:long_name = \"latitude at end of displacement\" ;\r\n",
      "\t\tlat1:units = \"degrees_north\" ;\r\n",
      "\t\tlat1:_FillValue = -1.e+10f ;\r\n",
      "\t\tlat1:grid_mapping = \"Polar_Stereographic_Grid\" ;\r\n",
      "\t\tlat1:coordinates = \"lat lon\" ;\r\n",
      "\tint dt1(time, yc, xc) ;\r\n",
      "\t\tdt1:long_name = \"delta time for end of displacement\" ;\r\n",
      "\t\tdt1:units = \"seconds\" ;\r\n",
      "\t\tdt1:_FillValue = 2147483647 ;\r\n",
      "\t\tdt1:valid_min = -43200 ;\r\n",
      "\t\tdt1:valid_max = 43200 ;\r\n",
      "\t\tdt1:grid_mapping = \"Polar_Stereographic_Grid\" ;\r\n",
      "\t\tdt1:coordinates = \"lat lon\" ;\r\n",
      "\tfloat dX(time, yc, xc) ;\r\n",
      "\t\tdX:long_name = \"component of the displacement along the x axis of the grid\" ;\r\n",
      "\t\tdX:standard_name = \"sea_ice_x_displacement\" ;\r\n",
      "\t\tdX:units = \"km\" ;\r\n",
      "\t\tdX:_FillValue = -1.e+10f ;\r\n",
      "\t\tdX:grid_mapping = \"Polar_Stereographic_Grid\" ;\r\n",
      "\t\tdX:coordinates = \"lat lon\" ;\r\n",
      "\t\tdX:ancillary_variables = \"uncert_dX_and_dY status_flag\" ;\r\n",
      "\tfloat dY(time, yc, xc) ;\r\n",
      "\t\tdY:long_name = \"component of the displacement along the y axis of the grid\" ;\r\n",
      "\t\tdY:standard_name = \"sea_ice_y_displacement\" ;\r\n",
      "\t\tdY:units = \"km\" ;\r\n",
      "\t\tdY:_FillValue = -1.e+10f ;\r\n",
      "\t\tdY:grid_mapping = \"Polar_Stereographic_Grid\" ;\r\n",
      "\t\tdY:coordinates = \"lat lon\" ;\r\n",
      "\t\tdY:ancillary_variables = \"uncert_dX_and_dY status_flag\" ;\r\n",
      "\tbyte status_flag(time, yc, xc) ;\r\n",
      "\t\tstatus_flag:long_name = \"rejection and quality level flag\" ;\r\n",
      "\t\tstatus_flag:standard_name = \"sea_ice_x_displacement status_flag\" ;\r\n",
      "\t\tstatus_flag:valid_min = 0b ;\r\n",
      "\t\tstatus_flag:valid_max = 30b ;\r\n",
      "\t\tstatus_flag:grid_mapping = \"Polar_Stereographic_Grid\" ;\r\n",
      "\t\tstatus_flag:coordinates = \"lat lon\" ;\r\n",
      "\t\tstatus_flag:flag_values = 0b, 1b, 2b, 3b, 4b, 10b, 11b, 12b, 13b, 20b, 21b, 22b, 30b ;\r\n",
      "\t\tstatus_flag:flag_meanings = \"missing_input_data over_land no_ice close_to_coast_or_edge summer_period processing_failed too_low_correlation not_enough_neighbours filtered_by_neighbours smaller_pattern corrected_by_neighbours interpolated nominal_quality\" ;\r\n",
      "\t\tstatus_flag:flag_descriptions = \"\\n\",\r\n",
      "\t\t\t\"  0 -> missing satellite image data\\n\",\r\n",
      "\t\t\t\"  1 -> grid point is over land\\n\",\r\n",
      "\t\t\t\"  2 -> grid point is not over sufficient ice\\n\",\r\n",
      "\t\t\t\"  3 -> grid point is too close to coast or edge\\n\",\r\n",
      "\t\t\t\"  4 -> unreliable vector was removed because in summer period\\n\",\r\n",
      "\t\t\t\" 10 -> optimization of the correlation (CMCC) failed\\n\",\r\n",
      "\t\t\t\" 11 -> vector removed because too low cross-correlation \\n\",\r\n",
      "\t\t\t\" 12 -> vector removed because not enough neighbouring vectors\\n\",\r\n",
      "\t\t\t\" 13 -> vector removed because motion is not consistent with neighbours\\n\",\r\n",
      "\t\t\t\" 20 -> vector processed using a smaller matching window\\n\",\r\n",
      "\t\t\t\" 21 -> vector corrected using the neighbouring vectors\\n\",\r\n",
      "\t\t\t\" 22 -> vector interpolated from the neighbours (multi-sensor product)\\n\",\r\n",
      "\t\t\t\" 30 -> vector was retrieved with nominal CMCC algorithm\" ;\r\n",
      "\tfloat uncert_dX_and_dY(time, yc, xc) ;\r\n",
      "\t\tuncert_dX_and_dY:long_name = \"uncertainty (1 standard deviation) of dX and dY components of the drift vector\" ;\r\n",
      "\t\tuncert_dX_and_dY:standard_name = \"sea_ice_x_displacement standard_error\" ;\r\n",
      "\t\tuncert_dX_and_dY:units = \"km\" ;\r\n",
      "\t\tuncert_dX_and_dY:_FillValue = -1.e+10f ;\r\n",
      "\t\tuncert_dX_and_dY:grid_mapping = \"Polar_Stereographic_Grid\" ;\r\n",
      "\t\tuncert_dX_and_dY:coordinates = \"lat lon\" ;\r\n",
      "\r\n",
      "// global attributes:\r\n",
      "\t\t:title = \"Daily Low Resolution Sea Ice Displacement from OSI SAF EUMETSAT\" ;\r\n",
      "\t\t:product_id = \"OSI-405\" ;\r\n",
      "\t\t:product_name = \"osi_saf_lr_ice_drift\" ;\r\n",
      "\t\t:product_status = \"operational\" ;\r\n",
      "\t\t:abstract = \"Gridded ice displacement fields obtained from  satellite  image\\n\",\r\n",
      "\t\t\t\"processing. It is a low resolution product (62.5km resolution).\\n\",\r\n",
      "\t\t\t\"The time span of  the  ice  displacement  is  approximately  48\\n\",\r\n",
      "\t\t\t\"hours. This dataset is intended both for  process  studies  and\\n\",\r\n",
      "\t\t\t\"data assimilation. Daily products  are  freely  available  from\\n\",\r\n",
      "\t\t\t\"the  OSI SAF distribution chain.\" ;\r\n",
      "\t\t:topiccategory = \"Oceans ClimatologyMeteorologyAtmosphere\" ;\r\n",
      "\t\t:keywords = \"Sea Ice Motion,Sea Ice,Oceanography,Meteorology,Climate,Remote Sensing\" ;\r\n",
      "\t\t:gcmd_keywords = \"Cryosphere > Sea Ice > Sea Ice Motion\\n\",\r\n",
      "\t\t\t\"Oceans > Sea Ice > Sea Ice Motion\\n\",\r\n",
      "\t\t\t\"Geographic Region > Northern Hemisphere\\n\",\r\n",
      "\t\t\t\"Vertical Location > Sea Surface\\n\",\r\n",
      "\t\t\t\"EUMETSAT/OSISAF > Satellite Application Facility on Ocean and Sea Ice, European Organisation for the Exploitation of Meteorological Satellites\" ;\r\n",
      "\t\t:northernmost_latitude = 90.f ;\r\n",
      "\t\t:southernmost_latitude = 31.96109f ;\r\n",
      "\t\t:easternmost_longitude = 180.f ;\r\n",
      "\t\t:westernmost_longitude = -180.f ;\r\n",
      "\t\t:activity_type = \"Space borne instrument\" ;\r\n",
      "\t\t:area = \"Northern Hemisphere\" ;\r\n",
      "\t\t:instrument_type = \"Multi-sensor analysis\" ;\r\n",
      "\t\t:platform_name = \"Multi-sensor analysis\" ;\r\n",
      "\t\t:start_date = \"2019-07-29 12:00:00\" ;\r\n",
      "\t\t:stop_date = \"2019-07-31 12:00:00\" ;\r\n",
      "\t\t:project_name = \"EUMETSAT OSI SAF\" ;\r\n",
      "\t\t:institution = \"EUMETSAT OSI SAF\" ;\r\n",
      "\t\t:PI_name = \"Thomas Lavergne\" ;\r\n",
      "\t\t:contact = \"osisaf-manager@met.no\" ;\r\n",
      "\t\t:distribution_statement = \"Free\" ;\r\n",
      "\t\t:copyright_statement = \"Copyright 2019 EUMETSAT\" ;\r\n",
      "\t\t:references = \"Product User Manual for OSI-405-c, Lavergne, v1.8, 2016\\n\",\r\n",
      "\t\t\t\"Validation Report for OSI-405-c, Lavergne, v5, 2016\\n\",\r\n",
      "\t\t\t\"Algorithm Theoretical Basis Document for OSI-405-c, Lavergne, v1.3, 2016\\n\",\r\n",
      "\t\t\t\"http://osisaf.met.no\\n\",\r\n",
      "\t\t\t\"http://osi-saf.org\" ;\r\n",
      "\t\t:history = \"2019-08-01 creation\" ;\r\n",
      "\t\t:product_version = \"2.0\" ;\r\n",
      "\t\t:software_version = \"5.1\" ;\r\n",
      "\t\t:netcdf_version = \"3.6.3\" ;\r\n",
      "\t\t:Conventions = \"CF-1.4\" ;\r\n",
      "}\r\n"
     ]
    }
   ],
   "source": [
    "!ncdump -h drift-velocities/archive/ice/drift_lr/merged/2019/07/ice_drift_nh_polstere-625_multi-oi_201907291200-201907311200.nc"
   ]
  },
  {
   "cell_type": "code",
   "execution_count": 557,
   "metadata": {
    "collapsed": true
   },
   "outputs": [],
   "source": [
    "# load a file\n",
    "OSISAFfile = 'drift-velocities/archive/ice/drift_lr/merged/2019/07/ice_drift_nh_polstere-625_multi-oi_201907291200-201907311200.nc'\n",
    "fl = Dataset(OSISAFfile)\n",
    "xc=fl.variables['xc']\n",
    "yc=fl.variables['yc']\n",
    "XC,YC=np.meshgrid(xc,yc)"
   ]
  },
  {
   "cell_type": "code",
   "execution_count": 649,
   "metadata": {},
   "outputs": [
    {
     "data": {
      "text/plain": [
       "<type 'netCDF4._netCDF4.Variable'>\n",
       "float32 lon(yc, xc)\n",
       "    long_name: longitude coordinate\n",
       "    standard_name: longitude\n",
       "    units: degrees_east\n",
       "unlimited dimensions: \n",
       "current shape = (177, 119)\n",
       "filling off"
      ]
     },
     "execution_count": 649,
     "metadata": {},
     "output_type": "execute_result"
    }
   ],
   "source": [
    "lon_start"
   ]
  },
  {
   "cell_type": "code",
   "execution_count": 904,
   "metadata": {},
   "outputs": [],
   "source": [
    "# lon lat on grid\n",
    "lon_start=np.copy(fl.variables['lon'])\n",
    "lat_start=np.copy(fl.variables['lat'])\n",
    "\n",
    "# lon lat at the end of the displacement\n",
    "lon_end=np.squeeze(fl.variables['lon1'][0,:,:])\n",
    "lat_end=np.squeeze(fl.variables['lat1'][0,:,:])\n",
    "\n",
    "# displacement in projection\n",
    "dX=fl.variables['dX']\n",
    "dY=fl.variables['dY']"
   ]
  },
  {
   "cell_type": "code",
   "execution_count": 905,
   "metadata": {},
   "outputs": [
    {
     "data": {
      "text/plain": [
       "(-179.90504, 179.82823, -180.0, 179.52649)"
      ]
     },
     "execution_count": 905,
     "metadata": {},
     "output_type": "execute_result"
    }
   ],
   "source": [
    "lon_end.min(), lon_end.max(), lon_start.min(), lon_start.max()"
   ]
  },
  {
   "cell_type": "code",
   "execution_count": 912,
   "metadata": {},
   "outputs": [
    {
     "name": "stderr",
     "output_type": "stream",
     "text": [
      "/Users/trackow/miniconda2/lib/python2.7/site-packages/ipykernel_launcher.py:2: RuntimeWarning: invalid value encountered in sqrt\n",
      "  \n",
      "/Users/trackow/miniconda2/lib/python2.7/site-packages/ipykernel_launcher.py:15: RuntimeWarning: invalid value encountered in sqrt\n",
      "  from ipykernel import kernelapp as app\n"
     ]
    }
   ],
   "source": [
    "# test to plot something\n",
    "plotfield=np.squeeze(np.sqrt((dX[0,:,:]/48.)**2 + (dY[0,:,:]/48.)**2)) # km/2days -> km/h\n",
    "plotfield=np.squeeze(dX[0,:,:]/48.) # km/2days -> km/h\n",
    "plotfield=np.squeeze(dY[0,:,:]/48.) # km/2days -> km/h\n",
    "plotfield=deltalat\n",
    "\n",
    "deltalon=lon_end-lon_start\n",
    "deltalon[deltalon>100.]=deltalon[deltalon>100.]-360. # jump at -180..180\n",
    "deltalon[deltalon<-100.]=deltalon[deltalon<-100.]+360. # jump at -180..180\n",
    "Ufield=deltalon/48. *length_of_latitude_circle(lat=lat_start[:,:])/360. * 3.6 # km/h -> m/s\n",
    "#plotfield2=(lon_end[lon_end<0.]+360-lon_start)/48. *length_of_latitude_circle(lat=lat_start[:,:])/360. * 3.6 # km/h -> m/s\n",
    "Vfield=(lat_end-lat_start)/48. *length_of_latitude_circle(lat=0.)/360. * 3.6 #km/h -> m/s\n",
    "#plotfield=lon_start\n",
    "#plotfield=lat_start\n",
    "plotfield=np.squeeze(np.sqrt(Ufield**2 + Vfield**2)) # km/2days -> km/h"
   ]
  },
  {
   "cell_type": "code",
   "execution_count": 913,
   "metadata": {},
   "outputs": [],
   "source": [
    "from math import sin, cos, sqrt, atan2, radians\n",
    "\n",
    "# approximate radius of earth in km\n",
    "R = 6373.0\n",
    "\n",
    "lat1 = radians(52.2296756)\n",
    "lon1 = radians(21.0122287)\n",
    "lat2 = radians(52.406374)\n",
    "lon2 = radians(16.9251681)\n",
    "\n",
    "dlon = lon2 - lon1\n",
    "dlat = lat2 - lat1\n",
    "\n",
    "a = sin(dlat / 2)**2 + cos(lat1) * cos(lat2) * sin(dlon / 2)**2\n",
    "c = 2 * atan2(sqrt(a), sqrt(1 - a))\n",
    "\n",
    "distance = R * c"
   ]
  },
  {
   "cell_type": "code",
   "execution_count": 914,
   "metadata": {},
   "outputs": [
    {
     "data": {
      "text/plain": [
       "3.4777355"
      ]
     },
     "execution_count": 914,
     "metadata": {},
     "output_type": "execute_result"
    }
   ],
   "source": [
    "plotfield.max()"
   ]
  },
  {
   "cell_type": "code",
   "execution_count": 915,
   "metadata": {
    "collapsed": true
   },
   "outputs": [],
   "source": [
    "#import pyproj\n",
    "#p = pyproj.Proj(\"+proj=stere +a=6378273 +b=6356889.44891 +lat_0=90 +lat_ts=70 +lon_0=-45\")\n",
    "#lon, lat = p(XC, YC, inverse=True)\n",
    "#print lat.min(), lat.max(), lon.min(), lat.max()"
   ]
  },
  {
   "cell_type": "code",
   "execution_count": 916,
   "metadata": {},
   "outputs": [
    {
     "data": {
      "image/png": "[encoded data removed]",
      "text/plain": [
       "<matplotlib.figure.Figure at 0x323382fd0>"
      ]
     },
     "metadata": {},
     "output_type": "display_data"
    }
   ],
   "source": [
    "np.size(plotfield)\n",
    "plt.imshow(plotfield)\n",
    "plt.show()"
   ]
  },
  {
   "cell_type": "markdown",
   "metadata": {},
   "source": [
    "#### add geographic information with Basemap"
   ]
  },
  {
   "cell_type": "code",
   "execution_count": 917,
   "metadata": {},
   "outputs": [
    {
     "data": {
      "image/png": "[encoded data removed]",
      "text/plain": [
       "<matplotlib.figure.Figure at 0x323382550>"
      ]
     },
     "metadata": {},
     "output_type": "display_data"
    }
   ],
   "source": [
    "m = Basemap(projection='npstere',boundinglat=75,lon_0=0,resolution='l')\n",
    "#m = Basemap(projection='robin',boundinglat=40,lon_0=0,resolution='l')\n",
    "m.drawcoastlines()\n",
    "#m.fillcontinents(color='0.1',lake_color='lightblue')\n",
    "# draw parallels and meridians.\n",
    "m.drawparallels(np.arange(-80.,81.,20.))\n",
    "m.drawmeridians(np.arange(-180.,181.,20.))\n",
    "#m.drawmapboundary(fill_color='lightblue')\n",
    "\n",
    "lon_map,lat_map=m(lon_start[:,:],lat_start[:,:])\n",
    "im=m.contourf(lon_map,lat_map,plotfield)\n",
    "\n",
    "cbar=plt.colorbar()\n",
    "cbar.set_label('km/h')\n",
    "\n",
    "plt.show()"
   ]
  },
  {
   "cell_type": "markdown",
   "metadata": {},
   "source": [
    "### Compute forward trajectories; class Buoys"
   ]
  },
  {
   "cell_type": "code",
   "execution_count": 918,
   "metadata": {},
   "outputs": [],
   "source": [
    "class Buoys:\n",
    "    \n",
    "    global rad, r_earth\n",
    "    rad=np.pi/180.0 # radiant <-> degree\n",
    "    r_earth=6.3675*10**6 # radius of Earth in [m]\n",
    "    \n",
    "    def __init__(self, lon_start, lat_start, earliest_date_of_buoy):\n",
    "        self.oldlon = lon_start*rad\n",
    "        self.oldlat = lat_start*rad\n",
    "        self.lon = lon_start*rad\n",
    "        self.lat = lat_start*rad\n",
    "        self.old_u = np.zeros(lon_start.shape)\n",
    "        self.old_v = np.zeros(lon_start.shape)\n",
    "        self.date = earliest_date_of_buoy\n",
    "        self.delta_x = np.zeros(lon_start.shape)\n",
    "        self.delta_y = np.zeros(lon_start.shape)\n",
    "        self.u_ice = np.zeros(lon_start.shape)\n",
    "        self.v_ice = np.zeros(lon_start.shape)\n",
    "        self.date = earliest_date_of_buoy\n",
    "        \n",
    "    def date(self):\n",
    "        print(\"The current date is ...\")\n",
    "        \n",
    "    def trajectory(self, new_u,new_v, delta_t):\n",
    "        print(\"Update buoy positions. Integrate for \" + str(delta_t/3600.) + \" hours.\")\n",
    "        \n",
    "        #save old position in case the drifter leaves the domain\n",
    "        self.oldlon = self.lon # radiant\n",
    "        self.oldlat = self.lat # radiant\n",
    "        \n",
    "        #displacement vectors\n",
    "        deltax1 = self.old_u * delta_t\n",
    "        deltay1 = self.old_v * delta_t\n",
    "        deltax2 = new_u * delta_t\n",
    "        deltay2 = new_v * delta_t\n",
    "        \n",
    "        #Heun method\n",
    "        self.lon = self.lon + (0.5*(deltax1 + deltax2) / (r_earth*np.cos(self.lat)) )\n",
    "        self.lat = self.lat + (0.5*(deltay1 + deltay2) /  r_earth )\n",
    "        \n",
    "        # keep degree in range 0..360 and -90..90\n",
    "        lon_deg=self.lon/rad % 360\n",
    "        lat_deg=np.clip(self.lat/rad, -90., 90.)\n",
    "        self.lon = lon_deg*rad\n",
    "        self.lat = lat_deg*rad\n",
    "        \n",
    "        #update velocity here (old value was needed for heun method)\n",
    "        self.old_u=new_u\n",
    "        self.old_v=new_v\n",
    "        \n",
    "        # UPDATE TIME HERE AS WELL\n",
    "        \n",
    "        return lon_deg, lat_deg\n",
    "        \n",
    "    def updateforcing(self, u_ice, v_ice):\n",
    "        print(\"The new forcing is loaded.\")\n",
    "        \n",
    "        #(self.lon - lon_start) \n",
    "        self.u_ice = u_ice\n",
    "        self.v_ice = v_ice\n",
    "\n",
    "    def updateposition(self, delta_t):\n",
    "        print(\"Update buoy positions. Integrate for \" + str(delta_t/3600.) + \" hours.\")\n",
    "        \n",
    "        self.lon = self.lon + self.u_ice*delta_t\n",
    "        self.lat = self.lat + self.u_ice*delta_t"
   ]
  },
  {
   "cell_type": "markdown",
   "metadata": {},
   "source": [
    "### Generate DataFrame of buoy positions and dates"
   ]
  },
  {
   "cell_type": "code",
   "execution_count": 923,
   "metadata": {
    "collapsed": true
   },
   "outputs": [],
   "source": [
    "# config\n",
    "initialdate='2019-07-29 12:00:00'\n",
    "num_times=48 # 116, 145 middle, 174\n",
    "freq='D'\n",
    "num_buoys=3\n",
    "\n",
    "# generate DataFrame that needs to be filled with positions\n",
    "dates = pd.date_range(initialdate, freq=freq, periods=1)\n",
    "lons = np.zeros((1, num_buoys))\n",
    "lats = np.zeros((1, num_buoys)) \n",
    "lons_df = pd.DataFrame(data=lons, index=dates)\n",
    "lats_df = pd.DataFrame(data=lats, index=dates)"
   ]
  },
  {
   "cell_type": "code",
   "execution_count": 924,
   "metadata": {},
   "outputs": [
    {
     "data": {
      "text/html": [
       "<div>\n",
       "<style>\n",
       "    .dataframe thead tr:only-child th {\n",
       "        text-align: right;\n",
       "    }\n",
       "\n",
       "    .dataframe thead th {\n",
       "        text-align: left;\n",
       "    }\n",
       "\n",
       "    .dataframe tbody tr th {\n",
       "        vertical-align: top;\n",
       "    }\n",
       "</style>\n",
       "<table border=\"1\" class=\"dataframe\">\n",
       "  <thead>\n",
       "    <tr style=\"text-align: right;\">\n",
       "      <th></th>\n",
       "      <th>0</th>\n",
       "      <th>1</th>\n",
       "      <th>2</th>\n",
       "    </tr>\n",
       "  </thead>\n",
       "  <tbody>\n",
       "    <tr>\n",
       "      <th>2019-07-29 12:00:00</th>\n",
       "      <td>60.0</td>\n",
       "      <td>60.0</td>\n",
       "      <td>60.0</td>\n",
       "    </tr>\n",
       "  </tbody>\n",
       "</table>\n",
       "</div>"
      ],
      "text/plain": [
       "                        0     1     2\n",
       "2019-07-29 12:00:00  60.0  60.0  60.0"
      ]
     },
     "execution_count": 924,
     "metadata": {},
     "output_type": "execute_result"
    }
   ],
   "source": [
    "# set initial positions at initial date\n",
    "lons_df.loc[initialdate] = np.array([60.,60.,60.]) # np.array([160.,160.,160.])\n",
    "lats_df.loc[initialdate] = np.array([83.,84.,85.])\n",
    "lons_df"
   ]
  },
  {
   "cell_type": "code",
   "execution_count": 925,
   "metadata": {
    "collapsed": true
   },
   "outputs": [],
   "source": [
    "# initialize the objects\n",
    "objects = Buoys(lons_df.loc[initialdate],lats_df.loc[initialdate],initialdate)"
   ]
  },
  {
   "cell_type": "code",
   "execution_count": 926,
   "metadata": {},
   "outputs": [
    {
     "name": "stdout",
     "output_type": "stream",
     "text": [
      "Update buoy positions. Integrate for 1.0 hours.\n",
      "Update buoy positions. Integrate for 1.0 hours.\n",
      "Update buoy positions. Integrate for 1.0 hours.\n",
      "Update buoy positions. Integrate for 1.0 hours.\n",
      "Update buoy positions. Integrate for 1.0 hours.\n",
      "Update buoy positions. Integrate for 1.0 hours.\n",
      "Update buoy positions. Integrate for 1.0 hours.\n",
      "Update buoy positions. Integrate for 1.0 hours.\n",
      "Update buoy positions. Integrate for 1.0 hours.\n",
      "Update buoy positions. Integrate for 1.0 hours.\n",
      "Update buoy positions. Integrate for 1.0 hours.\n",
      "Update buoy positions. Integrate for 1.0 hours.\n",
      "Update buoy positions. Integrate for 1.0 hours.\n",
      "Update buoy positions. Integrate for 1.0 hours.\n",
      "Update buoy positions. Integrate for 1.0 hours.\n",
      "Update buoy positions. Integrate for 1.0 hours.\n",
      "Update buoy positions. Integrate for 1.0 hours.\n",
      "Update buoy positions. Integrate for 1.0 hours.\n",
      "Update buoy positions. Integrate for 1.0 hours.\n",
      "Update buoy positions. Integrate for 1.0 hours.\n",
      "Update buoy positions. Integrate for 1.0 hours.\n",
      "Update buoy positions. Integrate for 1.0 hours.\n",
      "Update buoy positions. Integrate for 1.0 hours.\n",
      "Update buoy positions. Integrate for 1.0 hours.\n",
      "Update buoy positions. Integrate for 1.0 hours.\n",
      "Update buoy positions. Integrate for 1.0 hours.\n",
      "Update buoy positions. Integrate for 1.0 hours.\n",
      "Update buoy positions. Integrate for 1.0 hours.\n",
      "Update buoy positions. Integrate for 1.0 hours.\n",
      "Update buoy positions. Integrate for 1.0 hours.\n",
      "Update buoy positions. Integrate for 1.0 hours.\n",
      "Update buoy positions. Integrate for 1.0 hours.\n",
      "Update buoy positions. Integrate for 1.0 hours.\n",
      "Update buoy positions. Integrate for 1.0 hours.\n",
      "Update buoy positions. Integrate for 1.0 hours.\n",
      "Update buoy positions. Integrate for 1.0 hours.\n",
      "Update buoy positions. Integrate for 1.0 hours.\n",
      "Update buoy positions. Integrate for 1.0 hours.\n",
      "Update buoy positions. Integrate for 1.0 hours.\n",
      "Update buoy positions. Integrate for 1.0 hours.\n",
      "Update buoy positions. Integrate for 1.0 hours.\n",
      "Update buoy positions. Integrate for 1.0 hours.\n",
      "Update buoy positions. Integrate for 1.0 hours.\n",
      "Update buoy positions. Integrate for 1.0 hours.\n",
      "Update buoy positions. Integrate for 1.0 hours.\n",
      "Update buoy positions. Integrate for 1.0 hours.\n",
      "Update buoy positions. Integrate for 1.0 hours.\n",
      "Update buoy positions. Integrate for 1.0 hours.\n"
     ]
    }
   ],
   "source": [
    "# integrate objects forward in time\n",
    "for i in np.arange(0,num_times):\n",
    "    #trajectories.append(objects.trajectory(-10.,0.,delta_t=86400)) # U,V,deltaT\n",
    "    \n",
    "    # test with constant U,V\n",
    "    #LON,LAT=objects.trajectory(-1000./3600.,0.0,delta_t=86400) # U,V in m/s; 1000/3600 is 1km/h\n",
    "    \n",
    "    # evaluate the velocity fields\n",
    "    #Ufield=dX[0,:,:].flatten()/72. * 3.6 # displacement in km in 3 days; km/h -> m/s\n",
    "    #Vfield=dY[0,:,:].flatten()/72. * 3.6 # km/h -> m/s\n",
    "    \n",
    "    # Ufield\n",
    "    deltalon=lon_end-lon_start\n",
    "    deltalon[deltalon>100.]=deltalon[deltalon>100.]-360. # jump at -180..180\n",
    "    deltalon[deltalon<-100.]=deltalon[deltalon<-100.]+360. # jump at -180..180\n",
    "    Ufield=deltalon/48. *length_of_latitude_circle(lat=lat_start[:,:])/360. * 3.6 # km/h -> m/s\n",
    "    # Vfield\n",
    "    Vfield=(lat_end-lat_start)/48. *length_of_latitude_circle(lat=0.)/360. * 3.6 #km/h -> m/s\n",
    "    # evaluate at buoy position\n",
    "    U,V=find_UV_atbuoy_pos(lon_start,lat_start, Ufield.flatten(),Vfield.flatten(), objects)\n",
    "    \n",
    "    # don't advect buoys where there is no ice\n",
    "    fixed=np.logical_or(U.mask, V.mask)\n",
    "    U[fixed]=0.\n",
    "    V[fixed]=0.\n",
    "    \n",
    "    # advect buoys\n",
    "    LON,LAT=objects.trajectory(U,V,delta_t=86400/24) # U,V in m/s, delta_t in seconds\n",
    "    \n",
    "    lons_df=lons_df.append(LON.rename('2019-07-29 12:00:00')) # ADD CURRENT TIME HERE\n",
    "    lats_df=lats_df.append(LAT.rename('2019-07-29 12:00:00'))"
   ]
  },
  {
   "cell_type": "markdown",
   "metadata": {},
   "source": [
    "#### plot the trajectories "
   ]
  },
  {
   "cell_type": "code",
   "execution_count": 927,
   "metadata": {},
   "outputs": [
    {
     "data": {
      "image/png": "[encoded data removed]",
      "text/plain": [
       "<matplotlib.figure.Figure at 0x322d59bd0>"
      ]
     },
     "metadata": {},
     "output_type": "display_data"
    }
   ],
   "source": [
    "m = Basemap(projection='npstere',boundinglat=75,lon_0=0,resolution='l')\n",
    "#m = Basemap(projection='robin',boundinglat=40,lon_0=0,resolution='l')\n",
    "\n",
    "m.drawcoastlines()\n",
    "#m.fillcontinents(color='0.1',lake_color='lightblue')\n",
    "\n",
    "# draw parallels and meridians.\n",
    "m.drawparallels(np.arange(-80.,81.,20.))\n",
    "m.drawmeridians(np.arange(-180.,181.,20.))\n",
    "#m.drawmapboundary(fill_color='lightblue')\n",
    "\n",
    "lon_map,lat_map=m(lon_start[:,:],lat_start[:,:])\n",
    "m.contourf(lon_map,lat_map,plotfield)\n",
    "\n",
    "for buoynum in np.arange(0,3):\n",
    "    lon_traj,lat_traj=m(lons_df[buoynum][:].values,lats_df[buoynum][:].values)\n",
    "    m.plot(lon_traj, lat_traj)\n",
    "\n",
    "cbar=plt.colorbar()\n",
    "cbar.set_label('km/h')\n",
    "plt.show()"
   ]
  },
  {
   "cell_type": "code",
   "execution_count": 895,
   "metadata": {},
   "outputs": [
    {
     "data": {
      "image/png": "[encoded data removed]",
      "text/plain": [
       "<matplotlib.figure.Figure at 0x32093d850>"
      ]
     },
     "metadata": {},
     "output_type": "display_data"
    }
   ],
   "source": [
    "plt.plot(lats_df.values.tolist())\n",
    "plt.show()"
   ]
  },
  {
   "cell_type": "code",
   "execution_count": 896,
   "metadata": {},
   "outputs": [
    {
     "data": {
      "image/png": "[encoded data removed]",
      "text/plain": [
       "<matplotlib.figure.Figure at 0x321c5ddd0>"
      ]
     },
     "metadata": {},
     "output_type": "display_data"
    }
   ],
   "source": [
    "plt.plot(lons_df.values.tolist())\n",
    "plt.show()"
   ]
  },
  {
   "cell_type": "code",
   "execution_count": 897,
   "metadata": {},
   "outputs": [],
   "source": [
    "def length_of_latitude_circle(lat=85.):\n",
    "    return 2*np.pi*r_earth*np.cos(lat*rad) / 1000. # km"
   ]
  },
  {
   "cell_type": "code",
   "execution_count": 898,
   "metadata": {},
   "outputs": [
    {
     "data": {
      "text/plain": [
       "(174.24974287280895, 3486.9428568440962, 2790.829728167809)"
      ]
     },
     "execution_count": 898,
     "metadata": {},
     "output_type": "execute_result"
    }
   ],
   "source": [
    "length_of_latitude_circle(lat=84.)/24., length_of_latitude_circle(lat=85.), length_of_latitude_circle(lat=86.)"
   ]
  },
  {
   "cell_type": "code",
   "execution_count": null,
   "metadata": {
    "collapsed": true
   },
   "outputs": [],
   "source": []
  },
  {
   "cell_type": "markdown",
   "metadata": {},
   "source": [
    "### find closest point and use the velocites there. OR interpolate"
   ]
  },
  {
   "cell_type": "code",
   "execution_count": 612,
   "metadata": {},
   "outputs": [
    {
     "data": {
      "text/plain": [
       "(21063, 2)"
      ]
     },
     "execution_count": 612,
     "metadata": {},
     "output_type": "execute_result"
    }
   ],
   "source": [
    "pt = [10., 85.] # query point\n",
    "#pt = [[10., 85.], [30., 70.]] # query points\n",
    "A=np.array([lon_start[:,:].flatten(), lat_start[:,:].flatten()]).T\n",
    "np.shape(A)"
   ]
  },
  {
   "cell_type": "code",
   "execution_count": 613,
   "metadata": {},
   "outputs": [
    {
     "data": {
      "text/plain": [
       "array([ 9.462322, 85.039925], dtype=float32)"
      ]
     },
     "execution_count": 613,
     "metadata": {},
     "output_type": "execute_result"
    }
   ],
   "source": [
    "A[spatial.KDTree(A).query(pt)[1]] # works"
   ]
  },
  {
   "cell_type": "code",
   "execution_count": 614,
   "metadata": {},
   "outputs": [],
   "source": [
    "# evaluate the velocity fields\n",
    "Ufield=dX[0,:,:].flatten()/72. * 3.6 # displacement in km in 3 days; km/h -> m/s\n",
    "Vfield=dY[0,:,:].flatten()/72. * 3.6 # km/h -> m/s"
   ]
  },
  {
   "cell_type": "code",
   "execution_count": 615,
   "metadata": {},
   "outputs": [
    {
     "data": {
      "text/plain": [
       "-0.20046943"
      ]
     },
     "execution_count": 615,
     "metadata": {},
     "output_type": "execute_result"
    }
   ],
   "source": [
    "idx=spatial.KDTree(A).query(pt)[1]\n",
    "Ufield[idx]\n",
    "Vfield[idx]"
   ]
  },
  {
   "cell_type": "code",
   "execution_count": 619,
   "metadata": {},
   "outputs": [
    {
     "data": {
      "text/plain": [
       "(0    2.792527\n",
       " 1    0.069813\n",
       " 2    5.009095\n",
       " Name: 2019-07-29 12:00:00, dtype: float64, 0    1.448623\n",
       " 1    1.570796\n",
       " 2    1.570796\n",
       " Name: 2019-07-29 12:00:00, dtype: float64)"
      ]
     },
     "execution_count": 619,
     "metadata": {},
     "output_type": "execute_result"
    }
   ],
   "source": [
    "objects.lon, objects.lat # radian"
   ]
  },
  {
   "cell_type": "code",
   "execution_count": 620,
   "metadata": {},
   "outputs": [
    {
     "data": {
      "text/plain": [
       "array([[ -20.,   83.],\n",
       "       [-176.,   90.],\n",
       "       [ 107.,   90.]])"
      ]
     },
     "execution_count": 620,
     "metadata": {},
     "output_type": "execute_result"
    }
   ],
   "source": [
    "d = np.column_stack((objects.lon/rad-180.,objects.lat/rad)) # -180..180 assumed in OSISAF\n",
    "d"
   ]
  },
  {
   "cell_type": "code",
   "execution_count": 621,
   "metadata": {},
   "outputs": [
    {
     "data": {
      "text/plain": [
       "masked_array(data=[--, 0.22851119935512543, -0.09494788199663162],\n",
       "             mask=[ True, False, False],\n",
       "       fill_value=-10000000000.0,\n",
       "            dtype=float32)"
      ]
     },
     "execution_count": 621,
     "metadata": {},
     "output_type": "execute_result"
    }
   ],
   "source": [
    "Ufield[spatial.KDTree(A).query(d)[1]] # works"
   ]
  },
  {
   "cell_type": "code",
   "execution_count": 624,
   "metadata": {
    "collapsed": true
   },
   "outputs": [],
   "source": [
    "def find_UV_atbuoy_pos(lon_start,lat_start, Ufield,Vfield, objects):\n",
    "    \n",
    "    # (lon,lat) tuples of the underlying grid\n",
    "    A=np.array([lon_start[:,:].flatten(), lat_start[:,:].flatten()]).T # -180..180 assumed in OSISAF\n",
    "    # zip buoy lon and lat arrays to (lon,lat) tuples\n",
    "    tuples = np.column_stack((objects.lon/rad-180.,objects.lat/rad)) # -180..180 assumed in OSISAF\n",
    "    # KDTree nearest neighbor implementation\n",
    "    idx=spatial.KDTree(A).query(tuples)[1]\n",
    "    \n",
    "    return Ufield[idx], Vfield[idx]"
   ]
  },
  {
   "cell_type": "code",
   "execution_count": 625,
   "metadata": {},
   "outputs": [],
   "source": [
    "U,V=find_UV_atbuoy_pos(lon_start,lat_start, Ufield,Vfield, objects)"
   ]
  },
  {
   "cell_type": "code",
   "execution_count": 627,
   "metadata": {},
   "outputs": [
    {
     "data": {
      "text/plain": [
       "(masked_array(data=[--, 0.22851119935512543, -0.09494788199663162],\n",
       "              mask=[ True, False, False],\n",
       "        fill_value=-10000000000.0,\n",
       "             dtype=float32),\n",
       " masked_array(data=[--, 0.23833848536014557, 0.3157971501350403],\n",
       "              mask=[ True, False, False],\n",
       "        fill_value=-10000000000.0,\n",
       "             dtype=float32))"
      ]
     },
     "execution_count": 627,
     "metadata": {},
     "output_type": "execute_result"
    }
   ],
   "source": [
    "# return masked values if field is masked at this position\n",
    "U, V"
   ]
  },
  {
   "cell_type": "code",
   "execution_count": null,
   "metadata": {
    "collapsed": true
   },
   "outputs": [],
   "source": []
  },
  {
   "cell_type": "code",
   "execution_count": null,
   "metadata": {
    "collapsed": true
   },
   "outputs": [],
   "source": []
  },
  {
   "cell_type": "code",
   "execution_count": null,
   "metadata": {
    "collapsed": true
   },
   "outputs": [],
   "source": []
  },
  {
   "cell_type": "code",
   "execution_count": null,
   "metadata": {
    "collapsed": true
   },
   "outputs": [],
   "source": []
  },
  {
   "cell_type": "code",
   "execution_count": null,
   "metadata": {
    "collapsed": true
   },
   "outputs": [],
   "source": []
  },
  {
   "cell_type": "code",
   "execution_count": null,
   "metadata": {
    "collapsed": true
   },
   "outputs": [],
   "source": [
    "Thomas Krumpen:\n",
    "\n",
    "OSISAF, U V sea ice drift osisaf.met.no ice drift \n",
    "Ice concentration + ice drift\n",
    "\n",
    "Simpel selber machen in python! (allgemein dass auf Eisberg erweiterbar)\n",
    "Parcels nehmen als Test\n",
    "\n",
    "Download Thomas‘ Favoriten: Low Resolution Sea Ice Drift\n",
    "AMSR-2 Global Sea Ice Concentration\n",
    "\n",
    "Auf jeden Fall täglich auf dem Schiff\n",
    "\n",
    "Rückwärts rechnen für die \n",
    "\n",
    "Meereisportal.de (Datenportal), 30km über ein halbes Jahr Genauigkeit. Alle laden und gut einstellen\n",
    "\n",
    "\n",
    "Offiziell chief Scientist? Cruise leader\n",
    "\n",
    "Parallel, sea ice age Karte machen, parallel, Durchmischung, leads, Alleinstellungsmerkmal\n",
    "\n",
    "MOSAIC school ensemble machen für SiDFex?\n",
    "\n",
    "DWD forecast available, at ship position, get a file before\n",
    "\n",
    "Leuten verschiedenen Instrumenten zuordnen, P ist GPS, M mit Landen, L 48 Stunden mit Schiff dran\n",
    "\n",
    "STAS Kurs für Helikopter, Verena Mohaupt organisiert das, ich würde mal bisschen warten (Du wirst den schon kriegen)\n",
    "\n",
    "Wladimir Sokolov, AHRI St. Petersburg\n",
    "\n",
    "Russisch-Kurs von Anne abends, Mottoparties, Gitarre, Ukulele\n",
    "\n",
    "Social Events vielleicht den Studenten an die Hand geben, Gitarre, Ukulele, …\n"
   ]
  }
 ],
 "metadata": {
  "kernelspec": {
   "display_name": "Python 2",
   "language": "python",
   "name": "python2"
  },
  "language_info": {
   "codemirror_mode": {
    "name": "ipython",
    "version": 2
   },
   "file_extension": ".py",
   "mimetype": "text/x-python",
   "name": "python",
   "nbconvert_exporter": "python",
   "pygments_lexer": "ipython2",
   "version": "2.7.6"
  }
 },
 "nbformat": 4,
 "nbformat_minor": 2
}
